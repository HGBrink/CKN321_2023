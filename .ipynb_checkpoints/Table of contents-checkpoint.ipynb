{
 "cells": [
  {
   "cell_type": "markdown",
   "metadata": {},
   "source": [
    "# Chemical Kinetics 321 (CKN321)\n",
    "\n",
    "\n",
    "* [Introduction](https://nbviewer.org/github/HGBrink/CKN321_2023/blob/main/Introduction/Introduction.ipynb)\n",
    "\n",
    "\n",
    "* [Chapter 1: Basics of Chemical Kinetics](https://nbviewer.org/github.com/HGBrink/CKN321_2023/blob/main/Chapter%201/Chapter%201.ipynb)\n",
    "\n",
    "* [Chapter 2: Gas Phase Reaction](https://nbviewer.org/github/HGBrink/CKN321_2023/blob/main/Chapter%202/Chapter%202.ipynb)\n",
    "\n",
    "\n",
    "\n",
    "\n",
    "\n",
    "\n",
    "\n",
    "\n",
    "\n",
    "\n",
    "\n",
    "\n"
   ]
  }
 ],
 "metadata": {
  "kernelspec": {
   "display_name": "Python 3 (ipykernel)",
   "language": "python",
   "name": "python3"
  },
  "language_info": {
   "codemirror_mode": {
    "name": "ipython",
    "version": 3
   },
   "file_extension": ".py",
   "mimetype": "text/x-python",
   "name": "python",
   "nbconvert_exporter": "python",
   "pygments_lexer": "ipython3",
   "version": "3.10.9"
  }
 },
 "nbformat": 4,
 "nbformat_minor": 4
}
