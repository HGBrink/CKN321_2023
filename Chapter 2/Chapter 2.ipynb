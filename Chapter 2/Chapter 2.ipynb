{
 "cells": [
  {
   "cell_type": "markdown",
   "metadata": {
    "id": "jAl9ltHI3phB",
    "slideshow": {
     "slide_type": "slide"
    }
   },
   "source": [
    "# Chapter 2: Gas Phase Reaction\n",
    "\n",
    "## Introduction:\n",
    "\n",
    "![Gas%20phase-2.gif](https://drive.google.com/uc?export=view&id=1RcBxKxakgard9M3QTe_J4pzULgU15wYo)\n",
    "\n",
    "Gas phase reactions play a pivotal role in chemical reactor engineering, serving as the foundation for a wide range of industrial processes that produce everything from fuels and chemicals to pharmaceuticals and materials. The study and modeling of gas phase reactions are crucial for optimizing reactor design, process efficiency, and product yield. These reactions involve the transformation of reactant gases into products in the absence of a liquid or solid phase, and they occur in various industrial sectors, including petrochemicals, energy production, environmental control, and more.\n",
    "\n",
    "Understanding and accurately predicting gas phase reactions are essential due to several key reasons:\n",
    "\n",
    "1. **Process Optimization:** Modeling gas phase reactions enables engineers to design and optimize reactors to achieve desired conversion rates, selectivities, and yields. This optimization can lead to improved resource utilization, reduced waste, and increased profitability.\n",
    "<br></br>\n",
    "2. **Safety and Environmental Considerations:** Accurate modeling of gas phase reactions helps ensure the safe operation of chemical processes. It allows engineers to predict and mitigate potential hazards, such as the formation of toxic intermediates or undesirable byproducts. Additionally, it aids in minimizing environmental impacts by controlling emissions and waste generation.\n",
    "<br></br>\n",
    "3. **Product Development and Quality Control:** Gas phase reactions are fundamental in the production of a wide array of products. Modeling these reactions aids in the development of novel materials and chemicals, as well as maintaining consistent product quality through effective control strategies.\n",
    "<br></br>\n",
    "4. **Energy Efficiency:** Gas phase reactions are often energy-intensive processes. By modeling and optimizing these reactions, engineers can identify opportunities to enhance energy efficiency and reduce operational costs.\n",
    "<br></br>\n",
    "5. **Scale-Up:** When transitioning from laboratory-scale experiments to industrial-scale production, understanding gas phase reactions is crucial for ensuring that the desired reaction kinetics and outcomes are maintained. Accurate modeling assists in the smooth scale-up of processes.\n",
    "<br></br>\n",
    "6. **Reaction Mechanism Elucidation:** Modeling gas phase reactions helps researchers unravel complex reaction mechanisms, providing valuable insights into reaction pathways and intermediates. This knowledge can guide the development of new catalysts and reaction conditions.\n",
    "<br></br>\n",
    "7. **Control and Automation:** Effective control strategies are essential for maintaining stable and efficient reactor operation. Accurate models of gas phase reactions facilitate the development of advanced control algorithms that can respond to changing conditions in real-time.\n",
    "\n",
    "\n",
    "In conclusion, gas phase reactions are a cornerstone of chemical reactor engineering, influencing numerous industrial processes that impact our daily lives. Modeling these reactions is essential for optimizing process efficiency, ensuring safety, developing new products, and advancing our understanding of complex reaction mechanisms. As technology continues to evolve, accurate modeling of gas phase reactions remains a crucial tool for driving innovation and progress in the field of chemical engineering."
   ]
  },
  {
   "cell_type": "markdown",
   "metadata": {
    "id": "O3Uy69rT3phN",
    "slideshow": {
     "slide_type": "fragment"
    }
   },
   "source": [
    "## Gas phase reactions for specific reactor types:\n",
    "\n",
    "## Batch reactors\n",
    "\n",
    "The first thing to remember regarding gas phase reactions in CKN 321 is that it will be assumed that the *IDEAL GAS LAW* applies in all cases. This is a rough approximation but should provide relatively accurate results, which could theoretically be improved upon in the CPJ report (end of final year) by applying interactional models.\n",
    "\n",
    "The ideal gas law:\n",
    "\n",
    "$$ PV = NRT $$\n",
    "\n",
    "This provides the necessary tools to predict the behaviour of reactions in a gas phase reaction by considering the influence of the reactor pressure, temperature, volume and number of molecules present in the reactor as the reaction proceeds.\n",
    "\n",
    "**Please note:**\n",
    "For an isothermal batch reactor (as applied in CKN321), there are two variables that can change in response to expansion/contraction in the gas phase system due to increases/decreases in the numbers of molecules in the system: **V or P**.\n",
    "\n",
    "Example 1:\n",
    "\n",
    "\n",
    "A small reaction bomb fitted with a sensitive pressure-measuring device is flushed out and filled with a mixture at 76.94% reactant A and 23.06% inert at 1 atm pressure and 14°C, a temperature low enough that the reaction does not proceed to any appreciable extent.\n",
    "\n",
    "The temperature is raised rapidly to 100°C, and the readings in the table are obtained. The stoicheometry of the reaction is \n",
    "\n",
    "$$A \\to 2R$$\n",
    "\n",
    "and after sufficient time the reaction proceeds to completion. Find a rate equation (of the form $r = kC_A^m$) in units of moles, liters and minutes which will satisfactorily fit the data.\n",
    "\n",
    "|t (min)|P (atm)|\n",
    "|----|----|\n",
    "|0.5|1.5|\n",
    "|1.0|1.65|\n",
    "|1.5|1.76|\n",
    "|2.0|1.84|\n",
    "|2.5|1.90|\n",
    "|3.0|1.95|\n",
    "|3.5|1.99|\n",
    "|4.0|2.025|\n",
    "|5.0|2.08|\n",
    "|6.0|2.12|\n",
    "|7.0|2.15|\n",
    "|8.0|2.175|"
   ]
  },
  {
   "cell_type": "code",
   "execution_count": 2,
   "metadata": {},
   "outputs": [
    {
     "data": {
      "text/plain": [
       "[<matplotlib.lines.Line2D at 0x17ab6c379a0>]"
      ]
     },
     "execution_count": 2,
     "metadata": {},
     "output_type": "execute_result"
    },
    {
     "data": {
      "image/png": "[encoded data removed]",
      "text/plain": [
       "<Figure size 640x480 with 1 Axes>"
      ]
     },
     "metadata": {},
     "output_type": "display_data"
    }
   ],
   "source": [
    "from numpy import array\n",
    "from matplotlib import pyplot as plt\n",
    "%matplotlib inline\n",
    "Data = array([[0.5,1.5],\n",
    "                 [1.0,1.65],\n",
    "                 [1.5,1.76],\n",
    "                 [2.0,1.84],\n",
    "                 [2.5,1.90],\n",
    "                 [3.0,1.95],\n",
    "                 [3.5,1.99],\n",
    "                 [4.0,2.025],\n",
    "                 [5.0,2.08],\n",
    "                 [6.0,2.12],\n",
    "                 [7.0,2.15],\n",
    "                 [8.0,2.175]])\n",
    "te = Data[:, 0]\n",
    "Pe = Data[:, 1]\n",
    "plt.plot(te, Pe, 'o')"
   ]
  },
  {
   "cell_type": "markdown",
   "metadata": {},
   "source": [
    "How to solve this???\n",
    "\n",
    "Hints:\n",
    "1. Remember the ideal gas law\n",
    "2. Remember the mole balance\n",
    "3. Remember the pressure at time 0 is important\n",
    "4. Remember to make a link between the pressure in the reactor and the reaction rate... compare apples with apples"
   ]
  },
  {
   "cell_type": "markdown",
   "metadata": {
    "id": "1md9Je7k2fFn"
   },
   "source": [
    "## My solution\n",
    "\n",
    "Note: This is not the only solution, this just happens to be a solution that I was able to come up with\n",
    "\n",
    "From the data it is clear that we require the initial conditions for the reactor at time 0 in order to determine solve the differential equation which is inherently part of the batch reactor mole balance:\n",
    "\n",
    "$$ \\frac{dNA}{dt} = r_AV $$\n",
    "\n",
    "Ideal gas law:\n",
    "\n",
    "$$ PV=NRT$$\n",
    "\n",
    "In this case we assume the reactor to be a rigid structure with constant volume which would result in an increased pressure as the reaction proceeds to completion. \n",
    "\n",
    "This means the known parameters are:\n",
    "\n",
    "|Parameter|$t_{o,no\\:reaction}$|$t_{o, just\\:before\\:reaction}$|\n",
    "|---|---|---|\n",
    "|Temp ($^o$C)|14|100|\n",
    "|$y_A$|0.7694|0.7694|\n",
    "|$y_I$|0.2306|0.2306|\n",
    "|$P_{tot}$ (atm)|1|?|\n",
    "\n",
    "Considering no change in volume we can convert the ideal gas law by cancelling constant terms:\n",
    "\n",
    "$$ \\frac{P_2V_2=N_2RT_2}{P_1V_1=N_1RT_1} $$\n",
    "\n",
    "reduces to:\n",
    "\n",
    "$$ \\frac{P_2}{P_1}=\\frac{T2}{T1} $$\n",
    "\n",
    "$$ P_2 =P_1\\frac{T_2}{T_1}$$"
   ]
  },
  {
   "cell_type": "code",
   "execution_count": 3,
   "metadata": {
    "colab": {
     "base_uri": "https://localhost:8080/"
    },
    "executionInfo": {
     "elapsed": 24,
     "status": "ok",
     "timestamp": 1632986390051,
     "user": {
      "displayName": "Hendrik Brink",
      "photoUrl": "https://lh3.googleusercontent.com/a-/AOh14Gj_oOptHPNsTprkUbYjzJbEcCYDB3558Ibd4V4Oolc=s64",
      "userId": "04068393681625902792"
     },
     "user_tz": -120
    },
    "id": "pG8TpXSm2fFo",
    "outputId": "65e52850-7895-434d-d05c-1e8bb20818a1"
   },
   "outputs": [
    {
     "name": "stdout",
     "output_type": "stream",
     "text": [
      "Ptoto= 1.2994950374368797 atm\n"
     ]
    }
   ],
   "source": [
    "P1 = 1 #atm\n",
    "\n",
    "Ptoto = P1*(100+273.15)/(14+273.15)\n",
    "\n",
    "print('Ptoto=', Ptoto, 'atm')"
   ]
  },
  {
   "cell_type": "markdown",
   "metadata": {
    "id": "8OPUkXlO2fFo"
   },
   "source": [
    "The basic mole balance can now be used as a starting point:\n",
    "\n",
    "$$ \\frac{dN_A}{dt}=r_AV$$\n",
    "\n",
    "Assume the reaction rate can be described by a power law function:\n",
    "\n",
    "$$ r_A = -kC_A^n = -k\\left(\\frac{N_A}{V}\\right)^n$$\n",
    "\n",
    "We know from the stoichiometric equation that:\n",
    "$$ A\\to2R$$\n",
    "\n",
    "therefore:\n",
    "\n",
    "$$ r_R = -2r_A$$\n",
    "\n",
    "***FOR EVERY ONE A, 2 R IS MADE***\n",
    "\n",
    "\n"
   ]
  },
  {
   "cell_type": "markdown",
   "metadata": {
    "id": "tiEASQ302fFp"
   },
   "source": [
    "The ideal gas law for the reaction would be:\n",
    "\n",
    "$$ P_2 = P_1\\frac{\\sum(N_{i,2})}{\\sum(N_{i,1})}=P_1\\frac{N_{A,2}+N_{R,2}+N_{I,2}}{N_{A,1}+N_{R,1}+N_{I,1}} $$"
   ]
  },
  {
   "cell_type": "markdown",
   "metadata": {
    "id": "ry5gqQD_2fFp"
   },
   "source": [
    "This equation would provide the required output of pressure, as the reaction proceeds.\n",
    "\n",
    "All we need is to determine the total number of moles in the reactor initially and as a function of time. This can be done by solving the $N_A(t)$, $N_R(t)$. \n",
    "\n",
    "So the missing bit is the total molecules at time 0. Using the ideal gas law we would require the reactor volume, reactor pressure and reactor temperature. Of these we know the pressure and temperature, which leads us to the question of whether this actually matters?\n",
    "\n",
    "If we use the molecular density $\\left(\\frac{N_{tot}}{V}\\right)$ we can avoid the unknown volume. We could also choose a basis for either the initial molecules or the volume. \n",
    "\n",
    "In this case I will decide on a volume of 1 L...I will show below what the answer would be if I choose 1 mol $N_{tot}$"
   ]
  },
  {
   "cell_type": "markdown",
   "metadata": {
    "id": "vzU6Tukc2fFp"
   },
   "source": [
    "For V = 1L:"
   ]
  },
  {
   "cell_type": "code",
   "execution_count": 4,
   "metadata": {
    "colab": {
     "base_uri": "https://localhost:8080/"
    },
    "executionInfo": {
     "elapsed": 19,
     "status": "ok",
     "timestamp": 1632986390052,
     "user": {
      "displayName": "Hendrik Brink",
      "photoUrl": "https://lh3.googleusercontent.com/a-/AOh14Gj_oOptHPNsTprkUbYjzJbEcCYDB3558Ibd4V4Oolc=s64",
      "userId": "04068393681625902792"
     },
     "user_tz": -120
    },
    "id": "iAbKLZV62fFp",
    "outputId": "9014fff9-e1ba-4c72-e3ee-923a52eaafd0"
   },
   "outputs": [
    {
     "name": "stdout",
     "output_type": "stream",
     "text": [
      "Ntoto= 0.042442188670681336 mol\n"
     ]
    }
   ],
   "source": [
    "P = Ptoto*101.325 #kPa\n",
    "V = 1 #L\n",
    "R = 8.314 #kPa.L/mol.K\n",
    "T = 100+273.15 #K\n",
    "\n",
    "Ntoto = P*V/(R*T)\n",
    "\n",
    "print('Ntoto=', Ntoto, 'mol')"
   ]
  },
  {
   "cell_type": "markdown",
   "metadata": {
    "id": "wyCoOL-J2fFq"
   },
   "source": [
    "This means that the initial $N_{Ao}$ and $N_I$ were"
   ]
  },
  {
   "cell_type": "code",
   "execution_count": 5,
   "metadata": {
    "colab": {
     "base_uri": "https://localhost:8080/"
    },
    "executionInfo": {
     "elapsed": 13,
     "status": "ok",
     "timestamp": 1632986390052,
     "user": {
      "displayName": "Hendrik Brink",
      "photoUrl": "https://lh3.googleusercontent.com/a-/AOh14Gj_oOptHPNsTprkUbYjzJbEcCYDB3558Ibd4V4Oolc=s64",
      "userId": "04068393681625902792"
     },
     "user_tz": -120
    },
    "id": "ly_RQuAF2fFq",
    "outputId": "8cd6fabf-17e6-4b0e-ec55-652980659ab8"
   },
   "outputs": [
    {
     "name": "stdout",
     "output_type": "stream",
     "text": [
      "NAo = 0.03265501996322222 mol, NI = 0.009787168707459116 mol, NRo = 0 mol,\n"
     ]
    }
   ],
   "source": [
    "NAo = 0.7694*Ntoto\n",
    "NI = 0.2306*Ntoto\n",
    "NRo = 0\n",
    "\n",
    "print('NAo =', NAo, 'mol,', 'NI =', NI, 'mol,', 'NRo =', NRo, 'mol,')"
   ]
  },
  {
   "cell_type": "markdown",
   "metadata": {
    "id": "3YqkZm872fFq"
   },
   "source": [
    "Remember the rate expression:\n",
    "$$ r_A = -kC_A^n = -k\\left(\\frac{N_A}{V}\\right)^n$$\n",
    "\n",
    "Define the differential equations:\n",
    "\n",
    "$$\\frac{dN_A}{dt} = r_AV$$\n",
    "$$\\frac{dN_R}{dt} = -2r_AV$$\n"
   ]
  },
  {
   "cell_type": "code",
   "execution_count": 6,
   "metadata": {
    "id": "WWNK_znc2fFq"
   },
   "outputs": [],
   "source": [
    "def ri(NA):\n",
    "    return -k*(NA/V)**n\n",
    "\n",
    "def diffs(var, t): #remember to describe the dependent variable and then the independent variable   \n",
    "    NA = var[0]\n",
    "    NR = var[1]\n",
    "    rA = ri(NA)\n",
    "    rR = -2*rA\n",
    "    dNAdt = rA*V\n",
    "    dNRdt = rR*V\n",
    "    return [dNAdt, dNRdt]"
   ]
  },
  {
   "cell_type": "code",
   "execution_count": 7,
   "metadata": {
    "colab": {
     "base_uri": "https://localhost:8080/",
     "height": 284
    },
    "executionInfo": {
     "elapsed": 855,
     "status": "ok",
     "timestamp": 1632986390900,
     "user": {
      "displayName": "Hendrik Brink",
      "photoUrl": "https://lh3.googleusercontent.com/a-/AOh14Gj_oOptHPNsTprkUbYjzJbEcCYDB3558Ibd4V4Oolc=s64",
      "userId": "04068393681625902792"
     },
     "user_tz": -120
    },
    "id": "3NNKNkmb2fFr",
    "outputId": "32fc4a71-a59d-4100-9bf8-16a81e8156f1"
   },
   "outputs": [
    {
     "data": {
      "text/plain": [
       "<matplotlib.legend.Legend at 0x17ab6cab010>"
      ]
     },
     "execution_count": 7,
     "metadata": {},
     "output_type": "execute_result"
    },
    {
     "data": {
      "image/png": "[encoded data removed]",
      "text/plain": [
       "<Figure size 640x480 with 1 Axes>"
      ]
     },
     "metadata": {},
     "output_type": "display_data"
    }
   ],
   "source": [
    "from scipy.integrate import odeint\n",
    "from numpy import linspace\n",
    "\n",
    "def sol(k, n):\n",
    "    tspan = linspace(0, 8)\n",
    "    var = odeint(diffs, [NAo, NRo], tspan)\n",
    "    return var \n",
    "\n",
    "k = 1\n",
    "n = 1\n",
    "tspan = linspace (0, 8)\n",
    "\n",
    "var = sol(k, n)\n",
    "NA = var[:, 0]\n",
    "NR = var[:, 1]\n",
    "\n",
    "plt.plot(tspan, var)\n",
    "plt.legend(['A', 'R'])\n"
   ]
  },
  {
   "cell_type": "markdown",
   "metadata": {
    "id": "8gpreco32fFr"
   },
   "source": [
    "Now that we have the $N_A$ and $N_R$ amounts, we can calculate the pressure in the system:"
   ]
  },
  {
   "cell_type": "code",
   "execution_count": 8,
   "metadata": {
    "colab": {
     "base_uri": "https://localhost:8080/",
     "height": 302
    },
    "executionInfo": {
     "elapsed": 618,
     "status": "ok",
     "timestamp": 1632986391504,
     "user": {
      "displayName": "Hendrik Brink",
      "photoUrl": "https://lh3.googleusercontent.com/a-/AOh14Gj_oOptHPNsTprkUbYjzJbEcCYDB3558Ibd4V4Oolc=s64",
      "userId": "04068393681625902792"
     },
     "user_tz": -120
    },
    "id": "q4xKxBCW2fFr",
    "outputId": "7761d981-1300-465b-bf48-3da62ef44a03",
    "scrolled": true
   },
   "outputs": [
    {
     "data": {
      "text/plain": [
       "[<matplotlib.lines.Line2D at 0x17ab75c1330>,\n",
       " <matplotlib.lines.Line2D at 0x17ab75c1450>]"
      ]
     },
     "execution_count": 8,
     "metadata": {},
     "output_type": "execute_result"
    },
    {
     "data": {
      "image/png": "[encoded data removed]",
      "text/plain": [
       "<Figure size 640x480 with 1 Axes>"
      ]
     },
     "metadata": {},
     "output_type": "display_data"
    }
   ],
   "source": [
    "k = 2.5\n",
    "n = 1.5\n",
    "\n",
    "var = sol(k, n)\n",
    "NA = var[:, 0]\n",
    "NR = var[:, 1]\n",
    "\n",
    "Ptot = Ptoto*(NA+NR+NI)/(Ntoto)\n",
    "plt.plot(tspan, Ptot, '-', te, Pe, 'o')"
   ]
  },
  {
   "cell_type": "markdown",
   "metadata": {
    "id": "6RJ-aznq2fFs"
   },
   "source": [
    "## What if we differentiated the ideal gas law with time??? Solve P(t)..."
   ]
  },
  {
   "cell_type": "markdown",
   "metadata": {
    "id": "1YKIgTkf2fFs"
   },
   "source": [
    "$$ PV = NRT $$\n",
    "\n",
    "$$ \\frac{dP}{dt}=\\frac{RT}{V}\\frac{dN_{tot}}{dt}$$\n",
    "\n",
    "$$=\\frac{RT}{V}\\left[\\frac{dN_A}{dt}+\\frac{dN_R}{dt}\\right]$$\n",
    "\n",
    "$$=\\frac{RT}{V}(r_AV-2r_AV)$$\n",
    "\n",
    "$$\\frac{dP}{dt}=RT(-r_A) $$\n"
   ]
  },
  {
   "cell_type": "markdown",
   "metadata": {
    "id": "G1Tx4sxh2fFs"
   },
   "source": [
    "This means we can solve P as a function of $N_A$, which means we can add this as just another variable in the differential equation function:"
   ]
  },
  {
   "cell_type": "code",
   "execution_count": 9,
   "metadata": {
    "id": "KzIRFen62fFs"
   },
   "outputs": [],
   "source": [
    "def ri(NA):\n",
    "    return -k*(NA/V)**n\n",
    "\n",
    "def diffs(var, t): #remember to describe the dependent variable and then the independent variable\n",
    "    NA = var[0]\n",
    "    NR = var[1]\n",
    "    P = var[2]\n",
    "    rA = ri(NA)\n",
    "    rR = -2*rA\n",
    "    dNAdt = rA*V\n",
    "    dNRdt = rR*V\n",
    "    dPdt = R*T*-rA\n",
    "    return [dNAdt, dNRdt, dPdt]"
   ]
  },
  {
   "cell_type": "markdown",
   "metadata": {
    "id": "H-fKKidU2fFs"
   },
   "source": [
    "We still need to choose a base for our system, which I will choose as $N_{tot,o}$=1 mol"
   ]
  },
  {
   "cell_type": "code",
   "execution_count": 10,
   "metadata": {
    "colab": {
     "base_uri": "https://localhost:8080/"
    },
    "executionInfo": {
     "elapsed": 20,
     "status": "ok",
     "timestamp": 1632986391507,
     "user": {
      "displayName": "Hendrik Brink",
      "photoUrl": "https://lh3.googleusercontent.com/a-/AOh14Gj_oOptHPNsTprkUbYjzJbEcCYDB3558Ibd4V4Oolc=s64",
      "userId": "04068393681625902792"
     },
     "user_tz": -120
    },
    "id": "aapBgoTr2fFs",
    "outputId": "54aaf244-d010-4afd-c1e1-b4eedc45f0d6"
   },
   "outputs": [
    {
     "name": "stdout",
     "output_type": "stream",
     "text": [
      "V= 23.561461633358004 l\n"
     ]
    }
   ],
   "source": [
    "P = Ptoto*101.325 #kPa\n",
    "Ntoto = 1 #mol\n",
    "R = 8.314 #kPa.L/mol.K\n",
    "T = 100+273.15 #K\n",
    "\n",
    "V = Ntoto*R*T/(P)\n",
    "\n",
    "print('V=', V, 'l')"
   ]
  },
  {
   "cell_type": "markdown",
   "metadata": {
    "id": "FBxE20HC2fFt"
   },
   "source": [
    "This means that the initial $N_{Ao}$ and $N_I$ were"
   ]
  },
  {
   "cell_type": "code",
   "execution_count": 11,
   "metadata": {
    "colab": {
     "base_uri": "https://localhost:8080/"
    },
    "executionInfo": {
     "elapsed": 16,
     "status": "ok",
     "timestamp": 1632986391509,
     "user": {
      "displayName": "Hendrik Brink",
      "photoUrl": "https://lh3.googleusercontent.com/a-/AOh14Gj_oOptHPNsTprkUbYjzJbEcCYDB3558Ibd4V4Oolc=s64",
      "userId": "04068393681625902792"
     },
     "user_tz": -120
    },
    "id": "mDDmGv0k2fFt",
    "outputId": "e1212823-eadc-4ce9-b834-a07bcaed021d"
   },
   "outputs": [
    {
     "name": "stdout",
     "output_type": "stream",
     "text": [
      "NAo = 0.7694 mol, NI = 0.2306 mol, NRo = 0 mol,\n"
     ]
    }
   ],
   "source": [
    "NAo = 0.7694*Ntoto\n",
    "NI = 0.2306*Ntoto\n",
    "NRo = 0\n",
    "\n",
    "print('NAo =', NAo, 'mol,', 'NI =', NI, 'mol,', 'NRo =', NRo, 'mol,')"
   ]
  },
  {
   "cell_type": "code",
   "execution_count": 12,
   "metadata": {
    "colab": {
     "base_uri": "https://localhost:8080/"
    },
    "executionInfo": {
     "elapsed": 548,
     "status": "ok",
     "timestamp": 1632986392042,
     "user": {
      "displayName": "Hendrik Brink",
      "photoUrl": "https://lh3.googleusercontent.com/a-/AOh14Gj_oOptHPNsTprkUbYjzJbEcCYDB3558Ibd4V4Oolc=s64",
      "userId": "04068393681625902792"
     },
     "user_tz": -120
    },
    "id": "IZZ5jj4k2fFt",
    "outputId": "fe9bddf5-6415-40e3-ef98-475081762007"
   },
   "outputs": [
    {
     "data": {
      "text/plain": [
       "<matplotlib.legend.Legend at 0x17ab6ca9ff0>"
      ]
     },
     "execution_count": 12,
     "metadata": {},
     "output_type": "execute_result"
    },
    {
     "data": {
      "image/png": "[encoded data removed]",
      "text/plain": [
       "<Figure size 640x480 with 1 Axes>"
      ]
     },
     "metadata": {},
     "output_type": "display_data"
    }
   ],
   "source": [
    "from scipy.integrate import odeint\n",
    "from numpy import linspace\n",
    "\n",
    "def sol(k, n):\n",
    "    tspan = linspace(0, 8)\n",
    "    var = odeint(diffs, [NAo, NRo, Ptoto*101.325], tspan)\n",
    "    return var \n",
    "\n",
    "var = sol(1, 1)\n",
    "NA = var[:, 0]\n",
    "NR = var[:, 1]\n",
    "P = var[:, 2]\n",
    "\n",
    "plt.plot(tspan, NA, tspan, NR, tspan, P/101.325)\n",
    "plt.legend(['A', 'R', 'P'])\n"
   ]
  },
  {
   "cell_type": "markdown",
   "metadata": {
    "id": "iRYXfJ6U2fFt"
   },
   "source": [
    "Now that we have the $N_A$ and $N_R$ amounts, we can calculate the pressure in the system:"
   ]
  },
  {
   "cell_type": "code",
   "execution_count": 13,
   "metadata": {
    "colab": {
     "base_uri": "https://localhost:8080/"
    },
    "executionInfo": {
     "elapsed": 18,
     "status": "ok",
     "timestamp": 1632986392044,
     "user": {
      "displayName": "Hendrik Brink",
      "photoUrl": "https://lh3.googleusercontent.com/a-/AOh14Gj_oOptHPNsTprkUbYjzJbEcCYDB3558Ibd4V4Oolc=s64",
      "userId": "04068393681625902792"
     },
     "user_tz": -120
    },
    "id": "SCI_4WE-2fFt",
    "outputId": "49b16968-815b-41da-f05e-d9ac06d08535",
    "scrolled": true
   },
   "outputs": [
    {
     "data": {
      "text/plain": [
       "[<matplotlib.lines.Line2D at 0x17ab87f1000>,\n",
       " <matplotlib.lines.Line2D at 0x17ab87f0eb0>]"
      ]
     },
     "execution_count": 13,
     "metadata": {},
     "output_type": "execute_result"
    },
    {
     "data": {
      "image/png": "[encoded data removed]",
      "text/plain": [
       "<Figure size 640x480 with 1 Axes>"
      ]
     },
     "metadata": {},
     "output_type": "display_data"
    }
   ],
   "source": [
    "k = 2.5 #\n",
    "n = 1.5 #\n",
    "\n",
    "var = sol(k, n)\n",
    "NA = var[:, 0]\n",
    "NR = var[:, 1]\n",
    "\n",
    "Ptot = Ptoto*(NA+NR+NI)/(Ntoto)\n",
    "plt.plot(tspan, Ptot, '-', te, Pe, 'o')"
   ]
  },
  {
   "cell_type": "markdown",
   "metadata": {
    "id": "tvsRowqA2fFu"
   },
   "source": [
    "## Now let's look at a choice of $N_{tot,o}$ = 1 mol"
   ]
  },
  {
   "cell_type": "code",
   "execution_count": 14,
   "metadata": {
    "colab": {
     "base_uri": "https://localhost:8080/"
    },
    "executionInfo": {
     "elapsed": 15,
     "status": "ok",
     "timestamp": 1632986392045,
     "user": {
      "displayName": "Hendrik Brink",
      "photoUrl": "https://lh3.googleusercontent.com/a-/AOh14Gj_oOptHPNsTprkUbYjzJbEcCYDB3558Ibd4V4Oolc=s64",
      "userId": "04068393681625902792"
     },
     "user_tz": -120
    },
    "id": "h1ogslBF2fFu",
    "outputId": "66583dc4-d752-4e1a-a2b5-754bec53e726"
   },
   "outputs": [
    {
     "name": "stdout",
     "output_type": "stream",
     "text": [
      "V= 23.561461633358004 mol\n"
     ]
    }
   ],
   "source": [
    "P = Ptoto*101.325 #kPa\n",
    "Ntoto = 1 #mol\n",
    "R = 8.314 #kPa.L/mol.K\n",
    "T = 100+273.15 #K\n",
    "\n",
    "V = Ntoto*R*T/(P)\n",
    "\n",
    "print('V=', V, 'mol')"
   ]
  },
  {
   "cell_type": "markdown",
   "metadata": {
    "id": "is_0BG502fFu"
   },
   "source": [
    "This means that the initial $N_{Ao}$ and $N_I$ were"
   ]
  },
  {
   "cell_type": "code",
   "execution_count": 15,
   "metadata": {
    "colab": {
     "base_uri": "https://localhost:8080/"
    },
    "executionInfo": {
     "elapsed": 17,
     "status": "ok",
     "timestamp": 1632986392049,
     "user": {
      "displayName": "Hendrik Brink",
      "photoUrl": "https://lh3.googleusercontent.com/a-/AOh14Gj_oOptHPNsTprkUbYjzJbEcCYDB3558Ibd4V4Oolc=s64",
      "userId": "04068393681625902792"
     },
     "user_tz": -120
    },
    "id": "gyl1noC62fFu",
    "outputId": "18ed8497-a072-4937-9535-3157c922fc28"
   },
   "outputs": [
    {
     "name": "stdout",
     "output_type": "stream",
     "text": [
      "NAo = 0.7694 mol, NI = 0.2306 mol, NRo = 0 mol,\n"
     ]
    }
   ],
   "source": [
    "NAo = 0.7694*Ntoto\n",
    "NI = 0.2306*Ntoto\n",
    "NRo = 0\n",
    "\n",
    "print('NAo =', NAo, 'mol,', 'NI =', NI, 'mol,', 'NRo =', NRo, 'mol,')"
   ]
  },
  {
   "cell_type": "code",
   "execution_count": 16,
   "metadata": {
    "id": "D0TiRc0P2fFu"
   },
   "outputs": [],
   "source": [
    "def ri(NA):\n",
    "    return -k*(NA/V)**n\n",
    "\n",
    "def diffs(var, t): #remember to describe the dependent variable and then the independent variable\n",
    "    NA = var[0]\n",
    "    NR = var[1]\n",
    "    rA = ri(NA)\n",
    "    rR = -2*rA\n",
    "    dNAdt = rA*V\n",
    "    dNRdt = rR*V\n",
    "    return [dNAdt, dNRdt]"
   ]
  },
  {
   "cell_type": "code",
   "execution_count": 17,
   "metadata": {
    "colab": {
     "base_uri": "https://localhost:8080/"
    },
    "executionInfo": {
     "elapsed": 18,
     "status": "ok",
     "timestamp": 1632986392051,
     "user": {
      "displayName": "Hendrik Brink",
      "photoUrl": "https://lh3.googleusercontent.com/a-/AOh14Gj_oOptHPNsTprkUbYjzJbEcCYDB3558Ibd4V4Oolc=s64",
      "userId": "04068393681625902792"
     },
     "user_tz": -120
    },
    "id": "v5JTBgUM2fFv",
    "outputId": "4815b7d5-cef2-46e6-f07e-719956a92d0f"
   },
   "outputs": [
    {
     "data": {
      "text/plain": [
       "[<matplotlib.lines.Line2D at 0x17ab885baf0>,\n",
       " <matplotlib.lines.Line2D at 0x17ab885bb50>]"
      ]
     },
     "execution_count": 17,
     "metadata": {},
     "output_type": "execute_result"
    },
    {
     "data": {
      "image/png": "[encoded data removed]",
      "text/plain": [
       "<Figure size 640x480 with 1 Axes>"
      ]
     },
     "metadata": {},
     "output_type": "display_data"
    }
   ],
   "source": [
    "from scipy.integrate import odeint\n",
    "from numpy import linspace\n",
    "\n",
    "def sol(k, n):\n",
    "    tspan = linspace(0, 8)\n",
    "    var = odeint(diffs, [NAo, NRo], tspan)\n",
    "    return var \n",
    "\n",
    "var = sol(1, 1)\n",
    "NA = var[:, 0]\n",
    "NR = var[:, 1]\n",
    "plt.plot(tspan, var)\n"
   ]
  },
  {
   "cell_type": "markdown",
   "metadata": {
    "id": "lel5njdK2fFv"
   },
   "source": [
    "Now that we have the $N_A$ and $N_R$ amounts, we can calculate the pressure in the system:"
   ]
  },
  {
   "cell_type": "code",
   "execution_count": 18,
   "metadata": {
    "colab": {
     "base_uri": "https://localhost:8080/"
    },
    "executionInfo": {
     "elapsed": 532,
     "status": "ok",
     "timestamp": 1632986392567,
     "user": {
      "displayName": "Hendrik Brink",
      "photoUrl": "https://lh3.googleusercontent.com/a-/AOh14Gj_oOptHPNsTprkUbYjzJbEcCYDB3558Ibd4V4Oolc=s64",
      "userId": "04068393681625902792"
     },
     "user_tz": -120
    },
    "id": "p6wq4sD72fFv",
    "outputId": "bdd84b5d-03d4-4cdc-f33d-1ea82824ad80",
    "scrolled": false
   },
   "outputs": [
    {
     "data": {
      "text/plain": [
       "[<matplotlib.lines.Line2D at 0x17ab85d4580>,\n",
       " <matplotlib.lines.Line2D at 0x17ab85d46a0>]"
      ]
     },
     "execution_count": 18,
     "metadata": {},
     "output_type": "execute_result"
    },
    {
     "data": {
      "image/png": "[encoded data removed]",
      "text/plain": [
       "<Figure size 640x480 with 1 Axes>"
      ]
     },
     "metadata": {},
     "output_type": "display_data"
    }
   ],
   "source": [
    "k = 2.5 #\n",
    "n = 1.5 #\n",
    "\n",
    "var = sol(k, n)\n",
    "NA = var[:, 0]\n",
    "NR = var[:, 1]\n",
    "\n",
    "Ptot = Ptoto*(NA+NR+NI)/(Ntoto)\n",
    "plt.plot(tspan, Ptot, '-', te, Pe, 'o')"
   ]
  }
 ],
 "metadata": {
  "colab": {
   "provenance": []
  },
  "kernelspec": {
   "display_name": "Python 3 (ipykernel)",
   "language": "python",
   "name": "python3"
  },
  "language_info": {
   "codemirror_mode": {
    "name": "ipython",
    "version": 3
   },
   "file_extension": ".py",
   "mimetype": "text/x-python",
   "name": "python",
   "nbconvert_exporter": "python",
   "pygments_lexer": "ipython3",
   "version": "3.10.9"
  }
 },
 "nbformat": 4,
 "nbformat_minor": 1
}
