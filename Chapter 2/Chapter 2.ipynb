{
 "cells": [
  {
   "cell_type": "markdown",
   "metadata": {
    "id": "jAl9ltHI3phB",
    "slideshow": {
     "slide_type": "slide"
    }
   },
   "source": [
    "# Chapter 2: Gas Phase Reaction\n",
    "\n",
    "## Introduction:\n",
    "\n",
    "![Gas%20phase-2.gif](https://drive.google.com/uc?export=view&id=1RcBxKxakgard9M3QTe_J4pzULgU15wYo)\n",
    "\n",
    "Gas phase reactions play a pivotal role in chemical reactor engineering, serving as the foundation for a wide range of industrial processes that produce everything from fuels and chemicals to pharmaceuticals and materials. The study and modeling of gas phase reactions are crucial for optimizing reactor design, process efficiency, and product yield. These reactions involve the transformation of reactant gases into products in the absence of a liquid or solid phase, and they occur in various industrial sectors, including petrochemicals, energy production, environmental control, and more.\n",
    "\n",
    "Understanding and accurately predicting gas phase reactions are essential due to several key reasons:\n",
    "\n",
    "1. **Process Optimization:** Modeling gas phase reactions enables engineers to design and optimize reactors to achieve desired conversion rates, selectivities, and yields. This optimization can lead to improved resource utilization, reduced waste, and increased profitability.\n",
    "<br></br>\n",
    "2. **Safety and Environmental Considerations:** Accurate modeling of gas phase reactions helps ensure the safe operation of chemical processes. It allows engineers to predict and mitigate potential hazards, such as the formation of toxic intermediates or undesirable byproducts. Additionally, it aids in minimizing environmental impacts by controlling emissions and waste generation.\n",
    "<br></br>\n",
    "3. **Product Development and Quality Control:** Gas phase reactions are fundamental in the production of a wide array of products. Modeling these reactions aids in the development of novel materials and chemicals, as well as maintaining consistent product quality through effective control strategies.\n",
    "<br></br>\n",
    "4. **Energy Efficiency:** Gas phase reactions are often energy-intensive processes. By modeling and optimizing these reactions, engineers can identify opportunities to enhance energy efficiency and reduce operational costs.\n",
    "<br></br>\n",
    "5. **Scale-Up:** When transitioning from laboratory-scale experiments to industrial-scale production, understanding gas phase reactions is crucial for ensuring that the desired reaction kinetics and outcomes are maintained. Accurate modeling assists in the smooth scale-up of processes.\n",
    "<br></br>\n",
    "6. **Reaction Mechanism Elucidation:** Modeling gas phase reactions helps researchers unravel complex reaction mechanisms, providing valuable insights into reaction pathways and intermediates. This knowledge can guide the development of new catalysts and reaction conditions.\n",
    "<br></br>\n",
    "7. **Control and Automation:** Effective control strategies are essential for maintaining stable and efficient reactor operation. Accurate models of gas phase reactions facilitate the development of advanced control algorithms that can respond to changing conditions in real-time.\n",
    "\n",
    "\n",
    "In conclusion, gas phase reactions are a cornerstone of chemical reactor engineering, influencing numerous industrial processes that impact our daily lives. Modeling these reactions is essential for optimizing process efficiency, ensuring safety, developing new products, and advancing our understanding of complex reaction mechanisms. As technology continues to evolve, accurate modeling of gas phase reactions remains a crucial tool for driving innovation and progress in the field of chemical engineering."
   ]
  },
  {
   "cell_type": "markdown",
   "metadata": {
    "id": "O3Uy69rT3phN",
    "slideshow": {
     "slide_type": "fragment"
    }
   },
   "source": [
    "## Gas phase reactions for specific reactor types:\n",
    "\n",
    "## Batch reactors\n",
    "\n",
    "The first thing to remember regarding gas phase reactions in CKN 321 is that it will be assumed that the *IDEAL GAS LAW* applies in all cases. This is a rough approximation but should provide relatively accurate results, which could theoretically be improved upon in the CPJ report (end of final year) by applying interactional models.\n",
    "\n",
    "The ideal gas law:\n",
    "\n",
    "$$ PV = NRT $$\n",
    "\n",
    "This provides the necessary tools to predict the behaviour of reactions in a gas phase reaction by considering the influence of the reactor pressure, temperature, volume and number of molecules present in the reactor as the reaction proceeds.\n",
    "\n",
    "**Please note:**\n",
    "For an isothermal batch reactor (as applied in CKN321), there are two variables that can change in response to expansion/contraction in the gas phase system due to increases/decreases in the numbers of molecules in the system: **V or P**.\n",
    "\n",
    "Example 1:\n",
    "\n",
    "\n",
    "A small reaction bomb fitted with a sensitive pressure-measuring device is flushed out and filled with a mixture at 76.94% reactant A and 23.06% inert at 1 atm pressure and 14°C, a temperature low enough that the reaction does not proceed to any appreciable extent.\n",
    "\n",
    "The temperature is raised rapidly to 100°C, and the readings in the table are obtained. The stoicheometry of the reaction is \n",
    "\n",
    "$$A \\to 2R$$\n",
    "\n",
    "and after sufficient time the reaction proceeds to completion. Find a rate equation (of the form $r = kC_A^m$) in units of moles, liters and minutes which will satisfactorily fit the data.\n",
    "\n",
    "|t (min)|P (atm)|\n",
    "|----|----|\n",
    "|0.5|1.5|\n",
    "|1.0|1.65|\n",
    "|1.5|1.76|\n",
    "|2.0|1.84|\n",
    "|2.5|1.90|\n",
    "|3.0|1.95|\n",
    "|3.5|1.99|\n",
    "|4.0|2.025|\n",
    "|5.0|2.08|\n",
    "|6.0|2.12|\n",
    "|7.0|2.15|\n",
    "|8.0|2.175|"
   ]
  },
  {
   "cell_type": "code",
   "execution_count": 1,
   "metadata": {},
   "outputs": [
    {
     "data": {
      "text/plain": [
       "[<matplotlib.lines.Line2D at 0x17ab63647f0>]"
      ]
     },
     "execution_count": 1,
     "metadata": {},
     "output_type": "execute_result"
    },
    {
     "data": {
      "image/png": "[encoded data removed]",
      "text/plain": [
       "<Figure size 640x480 with 1 Axes>"
      ]
     },
     "metadata": {},
     "output_type": "display_data"
    }
   ],
   "source": [
    "from numpy import array\n",
    "from matplotlib import pyplot as plt\n",
    "%matplotlib inline\n",
    "Data = array([[0.5,1.5],\n",
    "                 [1.0,1.65],\n",
    "                 [1.5,1.76],\n",
    "                 [2.0,1.84],\n",
    "                 [2.5,1.90],\n",
    "                 [3.0,1.95],\n",
    "                 [3.5,1.99],\n",
    "                 [4.0,2.025],\n",
    "                 [5.0,2.08],\n",
    "                 [6.0,2.12],\n",
    "                 [7.0,2.15],\n",
    "                 [8.0,2.175]])\n",
    "te = Data[:, 0]\n",
    "Pe = Data[:, 1]\n",
    "plt.plot(te, Pe, 'o')"
   ]
  },
  {
   "cell_type": "markdown",
   "metadata": {},
   "source": [
    "How to solve this???\n",
    "\n",
    "Hints:\n",
    "1. Remember the ideal gas law\n",
    "2. Remember the mole balance\n",
    "3. Remember the pressure at time 0 is important\n",
    "4. Remember to make a link between the pressure in the reactor and the reaction rate... compare apples with apples"
   ]
  },
  {
   "cell_type": "code",
   "execution_count": null,
   "metadata": {},
   "outputs": [],
   "source": []
  }
 ],
 "metadata": {
  "colab": {
   "provenance": []
  },
  "kernelspec": {
   "display_name": "Python 3 (ipykernel)",
   "language": "python",
   "name": "python3"
  },
  "language_info": {
   "codemirror_mode": {
    "name": "ipython",
    "version": 3
   },
   "file_extension": ".py",
   "mimetype": "text/x-python",
   "name": "python",
   "nbconvert_exporter": "python",
   "pygments_lexer": "ipython3",
   "version": "3.10.9"
  }
 },
 "nbformat": 4,
 "nbformat_minor": 1
}
