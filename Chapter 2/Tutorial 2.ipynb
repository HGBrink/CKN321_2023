{
 "cells": [
  {
   "cell_type": "markdown",
   "id": "96332373",
   "metadata": {},
   "source": [
    "# Tutorial 2:"
   ]
  },
  {
   "cell_type": "markdown",
   "id": "0e216833",
   "metadata": {
    "id": "oxqClES649nz"
   },
   "source": [
    "## Q1\n",
    "\n",
    "The following irreversible and spontaneous gas-phase reaction occurs in a constant volume batch reactor (of 1L) at 100C and an initial pressure of 2 bar.\n",
    "\n",
    "$$ 2A+3B\\to C+2D$$\n",
    "\n",
    "The reactor was initially charged with 20% inert, 40% A and 40% B. The inert mole fraction was monitored as a function oftime and the following results were obtained:\n",
    "\n",
    "a. What will be the total pressure at infinite time? (1.47 bar)\n",
    "\n",
    "b. What is the conversion at 24 minutes? (0.46)\n",
    "\n",
    "c. Draw the plot of the total moles as a function of time.\n",
    "\n",
    "d. Determine the kinetics for the reaction at 100C. \n",
    "\n",
    "|Time (min)|Inert mole fraction|\n",
    "|---|---|\n",
    "|0|0.200|\n",
    "|8|0.209|\n",
    "|16|0.218|\n",
    "|24|0.228|\n",
    "|32|0.240|\n",
    "|40|0.252|\n",
    "|48|0.266|\n",
    "\n",
    "($k = 5 \\times 10^{-4}$ (units!))"
   ]
  },
  {
   "cell_type": "markdown",
   "id": "cc6f100c",
   "metadata": {
    "id": "wmIrGqMI49nz"
   },
   "source": [
    "## Q2\n",
    "\n",
    "The following irreversible gas-phase reaction occurs spontaneously at 100°C.\n",
    "$$ A\\to 2B+3C$$\n",
    "\n",
    "The device is used as a detonator that sets off a bomb when the pressure reaches 2 bar in the vessel. The initial charge consists out of a mixture of A and C at atmospheric pressure (1 bar) and 100°C. You can assume that the vessel operates isothermally. The reaction rate constant at 100°C is known to be 43.76 l/mol/s. You need to determine the feed mixture composition (of A and C) that will result in detonation after exactly 2 minutes. ($y_{Ao}$ = 0.53)\n",
    "\n",
    "\n"
   ]
  },
  {
   "cell_type": "markdown",
   "id": "ec254bba",
   "metadata": {
    "id": "u7AGC3xU49n0"
   },
   "source": [
    "## Q3 \n",
    "The first-order homogeneous gaseous decomposition $A \\to 2,5 R$ is carried out in an isothermal batch reactor at 2 atm with 20% inerts present, and the volume increases by 60% in 20 min. In a constant-volume reactor, find the time required for the pressure to reach 8atm if the initial pressure is 5 atm, 2 atm of which consists of inerts. (t=31.7 min)\n"
   ]
  },
  {
   "cell_type": "markdown",
   "id": "bcaa4e31",
   "metadata": {
    "id": "w-C0YS05mYBF"
   },
   "source": [
    "## Q4\n",
    "\n",
    "For the following gas phase reaction in a constant volume batch reactor:\n",
    "$$ A + 3B -> 4P + 6R $$\n",
    "The initial pressure is 3 bar with 20% A, 50% B and 30% inert.\n",
    "a) Will you define conversion with respect to A or B, why?\n",
    "b) What is the total pressure in the reactor at 40% conversion of B? [4.2 bar]\n",
    "c) What is the partial pressure of A at a 30% conversion of B? [0.45 bar]"
   ]
  },
  {
   "cell_type": "markdown",
   "id": "8877234d",
   "metadata": {
    "id": "CprwKeCrmYBH"
   },
   "source": [
    "## Q5\n",
    "A small reaction bomb fitted with a sensitive pressure-measuring device is flushed out and filled with a mixture at 76,94% reactant A and 23,06% inert at 1 atm pressure and 14°C, a temperature low enough that the reaction does not proceed to any appreciable extent.\n",
    "\n",
    "|Time, min|Total pressure, atm.|\n",
    "|---|---|\n",
    "|0.5|1.5|\n",
    "|1|1.65|\n",
    "|1.5|1.76|\n",
    "|2|1.84|\n",
    "|2.5|1.90|\n",
    "|3|1.95|\n",
    "|3.5|1.99|\n",
    "|4|2.025|\n",
    "|5|2.08|\n",
    "|6|2.12|\n",
    "|7|2.15|\n",
    "|8|2.175|\n",
    "\n",
    "The temperature is raised rapidly to 100°C, and the readings in the table are obtained. The stoicheometry of the reaction is \n",
    "$$A \\to 2R$$ and after sufficient time the reaction proceeds to completion. Find a rate equation in units of moles, liters and minutes which will satisfactorily fit the data. [$k_1= 2.5 units?$]"
   ]
  },
  {
   "cell_type": "markdown",
   "id": "2ffb8680",
   "metadata": {
    "id": "PSocNUpnmrr6"
   },
   "source": [
    "## Q6\n",
    "\n",
    "The first-order homogeneous gaseous decomposition $A \\to2.5 R$ is carried out in an isothermal batch reactor at 2 atm with 20% inerts present, and the volume increases by 60% in 20 min.  In a constant-volume reactor, find the time required for the pressure to reach 8atm if the initial pressure is 5 atm, 2 atm of which consists of inerts. [t=31.7 min]\n",
    "\n",
    "\n"
   ]
  },
  {
   "cell_type": "markdown",
   "id": "1dfa91ec",
   "metadata": {
    "id": "e2fw2CG-mrr7"
   },
   "source": [
    "## Q7\n",
    "\n",
    "A zero-order homogeneous gas reaction $A \\to  rR$ proceeds in a constant-volume bomb, 20% inerts, and the pressure rises from 1 to 1,3 atm in 2 min.  If the same reaction takes place in a constant-pressure batch reactor, what is the fractional volume change in 4 min if the feed is at 3 atm and consists of 40% inerts?   \n",
    "[V/Vo =1.2218]"
   ]
  },
  {
   "cell_type": "markdown",
   "id": "964feff7",
   "metadata": {
    "id": "wlfn5_hBmrr8"
   },
   "source": [
    "## Q8\n",
    "\n",
    "6) Pure gaseous A is prepared under refrigeration and is introduced into a thin-walled capillary which acts as a reaction vessel as shown in the figure. No appreciable reaction occurs during handling.  The reaction vessel is rapidly plunged into a bath of boiling water, reactant A decomposes to completion according to the reaction $A \\to R + S$, and the following data are obtained:\n",
    "\n",
    "\n",
    "Time, min|0.5|1\t|1.5\t|2\t|3\t|4\t|6\t|10\t|1000\n",
    ":---|---:|---:|---:|---:|---:|---:|---:|---:|---:\n",
    "Length of capillary  occupied by reaction mixture, cm\t|6.1\t|6.8\t|7.2\t|7.5\t|7.85\t|8.1\t|8.4\t|8.7|\t9.4\n",
    "\n",
    "![T18.png](data:image/png;base64,iVBORw0KGgoAAAANSUhEUgAABgIAAANJAQAAAAGRCCpuAAAAAXNSR0IArs4c6QAAAARnQU1BAACxjwv8YQUAAAAJcEhZcwAADsMAAA7DAcdvqGQAAC7aSURBVHja7Z0LjCTHed+r2fT1KV5dH2MgPsGb65MYyECCRMtcAO6B62vCkmMBMSwkjp0AhqyTmVBIIFjLECFX1ma71ytwZIf2WI8APOikFYwACShAtMMA1IveHg2hkaC7mwBKIMl6bI+H5koCxa3xUNxabm9Vqqp7Znqmu6erZ6p3evb6O+zto+brX/3r1VXV1VWAJJg9s5APEHIQCdkdG3L0z/7bv3wuNqR9/v7fejw2ZPcXnksI2fnXf/H34jkWITg25HiHJMTNsxJDSFLIcXzI/wG+aewDQyHOVCFeYgiSyskeokdCmNX5/3EhjcSQekFCyMxDihy3CUIeupwU8v5bu4khT/98TMgBDzmICTki5PduPf1cbAi+fJn5HMX4+LFODvG/t/+W+H+KhPyEfn3nF+Ou1v6tP0JPPxPn8/JffRH+0dtir/aDL8F4n/bVz5M//EBcCOn9ISaEZA7Br7z08LVLZ2nFvlvthRxfedNHPgLuuecLz+8OfDALQXFXw4kcHnI8fUht4pCjmJAWD6E3gcwhmKSFPBQKaQ+FtEMhW+R1v5HlIf+INgAfCVpXdZA/x7TJfWDj+Ohgf/fPR0PIB3Yw+/nQ5i1y2OcdvQacW9jngcHvIyH8UlJDjgVCDnohZDRkbySkZy7V2gth9/1n1oJk+8X+R2iIAz5FeLoP2+BqVmLIX1pkJ+w6CNmmfz/67v+KCWn82b1f/OIzvxMT8tpD5ie/+IeXYkLI53Y++fznbsaF/Nlb/8fz1/9uXEhirOcpZBYBuNdJDQew3iF+V0LA6+/8WOvxuICXvva5n8QGfPqzn3sl9lIb//PZfxIb0O+4jgTw0hcXMOicjgQM+qajDBIX8BkQaiLCAXa485cx4DAp4PXhgEEH87UkDyIYMNQjjQ8g0cJQ4f8flwEDaxQ4gEQD6hMF4N+9N8HjP342IeC3f/J3nokGHLCAD8UH/P4zv/9MtHN5QPBb7o0P8KObElD/cULAd2lX92OPxwR85emnf/yeaj/guB/wVz9++sefMGIC8I8/+9ON7ZiA9j/84U+/ZMUEEFa1SWwASQ14bijg+/iVV/7dg7TG2uBXewH33XMevOXeyw8cjVzqUJghOYBk97ASopt4KS9zAPYDfjuWQb++FQrYIq/6DSnz+A32gX6vcxArW73/A7s7tN8J+Ud7AVTkvyD7bDyA/T7ngGGfDTW3JOzxKAn3OEOxYnaYOaCTFNBNCiBJAYO+5v4guuGAbwMjCGD34/2DVV/jXe/pOwJiL7B7UqSj2WMkBpB1cmyFw/sBz+8c7+MvPRYNuPXff+U3N/5Nrx0IBbz4y+9+94fe9Jaox/G7v/+bH/zPr8QEfOYd//74o/80GpAY3fkISDL7lHvs9X7AK3xgg01xj+XVr5957O3bwh743Md+758/9tgDO8IeEP/yg7++8dgHTWGPJn744Xf9p4fXLWGPHYwP95t0RCzq8VowAuwIe7za600Le0CS1aOb2WNv4NHrISd5uGDEGOOAZPXojvOAcR7tzIxWZo//mzlW2ZVL9ojEihXJsamLRhz4eOhonEc/dkbol66Qh5nZwziFHkcnwDiJWAl5wMyxmtLjqJAMIuShn6iHtZPNw1u5+evvy8a48jcvdrcWQSaPV7ufuvmKJeRhBh4Hwh48T1ZuvvK+T928zTyaqR7b/EdzhydWBo/AIh5+33l3rMf+4De0F/y2K8o43Dv3suOsv1K7+6wZ43EUZXjnXnv59vfwOw6feiMR8zh8lXrUyD1/fP1Q0AO99PCvMY+PvvAGQQ9uPwjPqgt5uCSrB5nIA29sbJjUjPN6tbo16rG322zu7+11u50OhKuXLin65mZ9q96q1VouhGcRWu+1DoeBh3NpaWl5kZph6G9saMZOYqx6HnvCOg7H6Bjv0T4BxlgdSCPR0i7ucSziAcMeTTMr46dWVg9EJvXgqWsbCR7h1B1SbuvxHkP5cfzNkMeV+HbO4RMY118O/cn3cMEbhjuS79vt/RTXXvFe7JI/JXSwT7/xgHA/d9SD36WXfP2jvVyFtxIxHg4444exS0fVxMbK6ClvEEGPvtUze/zXzB5bmT2ey+zRjTpgc8Rj2I6iHpCMeHhDf/BvHH8azkZj1COS09fedUCSLRIrbJHxFu0zDMn0RDyqrKN3lMWjfXR7cWXpqWXz07WtMwsiHmj57zevH338k9u3rm+vvCjiQY6eWvi5o49/d/tH290XhWJFut/7xvXr17+03f761lvvFmPcXsH/BZMks8tZtRw9Sof5crBSHPodJ2+Nf8NpDs3JHZYzO3S+ee6lyqfTHPq3zBt/7tbPvPRzV0UJePFjt28/9tKjV0UJaOUTzm380qMbog4d76vMYS3Vodcp2/O+2ry9kcGh6d1mGtaxqMO2d9ttnjkj7mBi3CXbpodFy1LwuWNRwmvBry1Rh1d7v4s6/NTM6ACzEgbP8wQdWlkd2lkd9rI69NuCo43epGyCw4txM74HYwiuFIe93B3aWRzM3B1YlGpZHf5fVodPZNXwv7MSXsvqcHCnOZAUh9FnLEqaQ+wjlnEOPXPCAyIhB7N0yMHBLR2yOnRzdyiI6MiDpDvNoYCpdJC7QwGjlNmBlA5pDjhY7i7q4K0sXtQzOSw/ebORKUpXvv7y3k66w+Dh85Uf/c3eXRfOZ3O48NQL2Ry+8J3bQg68ff0gdbiSxeHKj36SzeGDNJUyOSzfvNnM4uAt0py+8p2bVsoDYbfngP/SMvngL+0Jcj9KPTt5h+9nckC6d4v/sC3ocNgIfhN22NtpsoHL/rllM8bhKOrw0sKtTce7ubVwwRJzWHj/rQ9/z7v5hetPESEHtPDirSdv4D/uPPUGMYfDF168deP7eLP21JsEHV6kDjX85uuDR+wCDtv48heuf0c0Si/furFFLn/0ScEooXMLt2445PLm7QfEHPjrQp8O/57qQO1GVodaVgdy8g77KQ7H9GbjeRsbG1dN0zxvGNVKssPR0eEhQmvr65eWz58/z4aU7C2HpVGH3Wqz2dzba7c7ruteu6QayubWVr1er7VaLjwP0dqog17RtrY2bfvuhTNndM2o7DT2x4p2rl1bWl5eWVy8ahj6n+jm0JOg1RiHWloqFTDjpnZozDhK+p3u8F0ro8M3fIc9YYf9rA78EW4Wh1ezOkDfYV/YAWV1OJzGIWkJS6LDlXclOBgJDiCB4IYdDtoDh6MEBz4LtxyeTwwcHogtUQcPcrL5H0J/CzLuF6r+rx8ZnXKM6f7wJTXK8Mc+sJPmAH72PTvrx0f7uzsEHx3s76c40Fa6ydbeHPFXsI6YrJ6DmeDwSHPoFST0YHgWNJ7A/k9YshN1cMClB4c+OLyEI+pgg3NgzBKfuCgZvZzeJmIOZu+DVUGHvlWyOmzlTsjdAavpDsOtxtuyOuxndYhpOPHOOIeYdUZ4hEDSHDxrnEPMIquhtavU4Wicg3eevWI57DC80Md3H6p65ohD/6Hq7j+2huvoXb9kRiNINVwaqciX4ipR2IG2Sn+q9dLaIyk2mkqZHXBmBz8JghgepzsQE1GXbpA8noDDNrtL9bJPxKHZpQ1yFxNrZ6+5vSjgUO/eXll58+eXzBtbd90t4gAf/d6FK5cvX9751PWr778p4rD6pu8+273/2Z3vXLm4LuKAV5cvXuYOSmVhQcCBdJcvcMI3zO4LnpDDJ7vPdi8/u1N/vvvqy0IO17/58WefvbzT3rzrH4hF6cb5C0uff3Rnr66dE0lWQm6veGNWHabML5UOpUOBHLKaXRJKQkmQR0BmeG88bExJiLkzIcMN/dGbloBiCaHfcB4E3bG2Dpuut3H1EaORC0Gz1wHUwMrGItAr0xMiXWsFNc6ura1evbiysaLrVfkaoIIeOrvqrXqmt7FiVqvyNTgWunZhFax6FiPUjelL6wgB6wStrqwS6BP+2pSugf5OCWsEYpPmgwlN6RpaFLK2vr68is8tAkqwpNfpBiWsexsAEtu6a8WCRLqGket1pLdLeASoSNewMpJounTCcmTaXzYhOsEpnRBtCCUTFJIzAeu5E4y8CZ4ZR2iS+q+8iAB40JRAsCLzs8DAo5NGGQkgzfqp1I9LXoRBHpWEMQQ9L0J/BwktbwJS8yL0Uqnz5rwJ3fsmI2BhQmM5b0JzZTJCEVoNPXeCUXgCLgCh3/sw8iKQKQkkDaBOTRh5eQQCJemT2xMSIkAtKciQRdBLggBBKwmp5pWEkrB9Cgh67oRq7oT8U2mOypKaFFQtCT3DsyTop4BwGvJhO3dC/vmwXRIKQSCyCEpJuGMJhqd6KlbyI0AdAkT/WbkRsN6CEK16Zm4EotfRe71HsPnCRa27VZt6rUMswXvIuw8bNlBcNhuUDwFTwlar00IoT0KlTQmeJS0f9DhCe3rCQMNg1bdR93hO+xpMaYRBH9xooQ5bmsAIUKKGPgGprsLqHOEakK8BTgzA0VSCCms1iEqae50OItaUhLh8GLWSIEpA8UEO9UZwsF9Y3G7HUxJos4VQnoQ6a+PDYW2yM/pey3T5QAmKh7rdLQ9YHYSgDtZURxclNMOEBA01tA7WYIdVUZofqMb2yXaITIID0PryWseFLUgJj5B6u95pSSas4WVIG5c2JN61+zy17YC6VELdW8LLiBJgi3h33es+VK/tSCbgZUZoI6gRrKmNdrtOZGtY3qD50EJsSaCmNeott9OWSnABL0tUA/2MXnVUd02Vq8FVieIdHnVJG9IO3C6K25F4OkLf6smvEkgiwOQ7rSTCGCsJUfMIZm8kWcSg/7ZJlVQooU5bddecgtAlh7R5R2w9seka0KAjEA1piI9z2MPkDWABE+gpBGton+8d+q9K/22RTWLTf45p60i3VRuotkrrnUL/AUj/rdEqCcBVBrAj866NYUKNOMS1oAkNRC+GVESj5wBwASwCAxBbrxNXhzriyURM/s+fExbNh6sA3A3OAJVHkkbQpb1CDxB6beLGvZLX/9tOMmFIA5y87yqq4fEcCMP5QO5sAhAjGJMTBDWYuRNI7gRrYoLdmyGZAWFfEgHkriGZsCeJMMNU6uwbORPQK2aI4E1epxNTCd9vhQmmfAJZyp1gkzDBmktC7YQJ/T87yc+bsxJa8QRbYKZ8hEASCO0hQj+VtrcuZAIcJd8fDsKEwbbuTkYNaISwT8Kr2M0+YaDBaBxmIoABoXf6/5l7PmT6FzywBoR+jdMa7pjrBRc5F7dEcPzczICgNGwLZDKx2R//pZvRlaV3K97936ZFokpMRO9Y29jy6G0laZmjCIHZIlil/eomMT32DVuH9Jq7hF56n+x6JI6gZSQYAPYIB6z3zLZ16J+gx22UYAoRBvlgbAZ9p/BOBfiHydnQf2gplA/kC/ji+TWB3H07iTZkKQR+j/O3Mb/Qv87Z8EUTFzdmIdCqjZXIS+ctImaiOa2R0alCVzIhaq6ZO8GYf4KTP2FbCiE5nji9JggRxvQ1nnw8b8IPrLwJWJDQnJwgVuPGdH15h2dcPMVKKzTGE8aZWFlyrPGEnTG+VREAHLN8hhPGNdEJWXj7teXw/cNKISQP5F7/mSd+J3Ikx5Apz5Pxxgl4EYjYGZV8i2Q2P6fjornk97Y62a8ZRxhTJZAkQrJNMdgWJEwxUBUkhKvc9kj7BuUQGvRDQe+02syFQPszlWBgOVq/JRGQQaqQ7LB9FZSGa9zQSQMh3THAhiKJQDuCVYhUR3POKJUn2HOAdqe1VTm3uLYqiUBso9pqtRr1SqVaMRrVBml1Gu0qNiFalUSAhq3VO6RSJQGh07ZVG6sQyCLQm7DuKFDjhD1KgHVbhbqzCqA0QrVRJ/U9vacBNWi9qOAlIpFQpwPGRqVRreiM4On1duVPri6vyUslreW2ttRaZbPh6JSAdVezz4F1malES6urQqNGIG8HLc84JHVSPZRGmMpKQkkoCSWhJJSEklASSkJJKAnzSTDlE5AZHgnhaQk4jhB+zJLTvqG570zq5E8I/eaZeRNwHgTdtiqHzZqH1x81GjkRNtROBaytrzxoVHIieGz/Vkpg+7fKJ9RQ5SwC8NzZlfUVVa/mQGA7xKJVeHVl2d8hVjrBYwSIVtevUoKh6/IJUEVfucBeS7QQ24PWkE9wNPTXFyAICBVD/j66toXcgLC+YjVy0KAS5C6vgke4BuurpnSCpxMElyHp+ISvyCewfXR7BLxiufIJ0KKENUYwl2k+uJZ8Ans3bA150Lu6vLZiQfkEthcwWltbWsWLK+dzIdQ5YR10CFgHfC9g2YQKI6ANSrA38iFUaYE99kjliLTZe20d+TuIy9/PeJRg5k0Y7Vmo0gnrI1s0a9IJyznsyTxCiLyqJZuw1MibcF81bwIwpRNGcjq6PEC6hugnJBOUvAlxp6hJJmi5E/RTQDDyJsTv7y2VYMURmqR+6+tw4h3E0wj7U+8gPnRNNH6Pcmsiwmra+qD+3th38F7AGXYQL3dyLwTBy4lwPndCSIN+Cgha3gR0Ggj579l/b96Ebu6E9n15E/ZyJzSW8iY0l/Mm7OZOIHN8dkLehPOnqr9UEmZLME8BwcqdQKYk4NwJqedwKLkT1KkJTgrBnJoAhy/oJu+jK2nfUJj83ntJCBH0kjANwZgfgnYKCKc6HySVVnQChPk/gegkTvrQTwGhPB+oJJSEklASSkJJKAkloSRMS8ClhpKQP2E7d0JZH/pWltaSUNa4O4ZASsKAUJ4JWRJKwowJ+D1kN7TPsnyCgTRP9fI8m9OACjt0JlcCgLme/gl114XU8jxftAZbaBXlR+Dni6JHPHPXypHwECM8eVFra5t5ETxKsBdUVwW5EBre271HKQGoLsiRgM1Nu+bCVSsvwkPYrNQ7LYjyIBiMcC82q/VOG3q5ER6VTzBCBJQLIXSSbI/Q6LQ7+REekU8InSRbR+0eAeZFaLGzank+oFwINdRCNPKSCaHX/djp0BCu5UeAvfN2w4Sj6QmDVIIKVJHqDROgVIJK+xoaUUl1r9tl235KJ+B9zM74G2xiL50QsZJQEk6K0Akdp3ggm+DQ8T7qhPZZ34t+ZkoCYDuAhPbCr8snsF1MujkSamwMEN6MXjqhjiIEK/H86ckInrnvE75Mv46RZa/pXzVECbtCBEs97nT3VDoo63TYCdermiNMaIoQ0DpAnS67KVodiFwNrKqOKUqoihKCM7Qh7NQq487QnohQA2iNndJ9rdNip6Y3GnWKkEpwAPKWKYF2DglyHyH1Rr1VFyY0hQiQEVo+4b1EbTiKZIK9ipc7dCDTpoRrDyFGaEgl1BEntGG3Q7wH73VzILCTxhkB1oh35l6H5sNODgREcwGqlKDV240GyYFwyDToBJ/RKjkRaCqxg+SxrlVoKnUmJCSflu6xs8z5UfWUsFVvySbQKs0I0NUYYUt1VlW5qUTrNG35WD7Qz+g6O49dk6vBAR5rW2lZAvzE93vddV2yBpWo6LB7QOrsdroNx574PhGh/7E6Sj/xfVKCb43cCfXkD0giiJxaPx0BqXkTxlhhCDJOhx7fE5BBiKy/b84b4TBKmCyVjtnB+BbtgbOD8fnx/JTQIG3iWhIIx/QftJCFTGR6OjZorDWiUoJCasQxp0ilA9KlXXzIrm66JjToPx1pUEOqp7AXVD2AgQWM8YSE+lClCVCnEXRpIvBrLwAd3AUUsNl/E3KJ/38W/AxIIdCmMzRcY8nMEoHeHsgmsYlt2TrUbc0GGtAcld7rVBewhz2rYJ1efwVcBYadlkoHpMWTAlme6RnYwBrRPJoA69T/AgBnFEIBmqM7ukth0E8kNhFGFRFA4+BGCI1hDZvEIY4FTWj6yYwUBGwAlingIr2EXiGOTkNoXDDT6KtkJlgfIIuGCUxb5zFV6LWv8STYoHlobVH2HlUXs6e0OIEm5wI4Q5NZtVVHcQBLZlpGFJoNtdG5Bv+w3nTCcCqBRZoYOtBt3dFcDapQ8zSsYGXfwWBDIzux0ec4YQKZ1ERTSc2BMFKWTgGB5E1AJSFnAsidIKjBOAWEPGpcM3fC6Sutk6eSnTsBzJAgbQw0Q0LjZAloPgmSWo2j3AnJGrpNUwohWUOnaeROyFsDuj1EmPxY4MSWz3tf3gT8sJU34a1hgpcH4dIQIY870PncCSD8kVzuonb4I7lo2IwhHOdOIDkSSA6EevgjSAIhMldZC3/Ey4NQjyc4ybuKSCLYQJVFaMcTALgnI0HJSDAqj+RMMP/gvkyAo+R5770hQmjltJKJMGbdzOMv6LGEu7IR0Ahhn0S3oRtpNZ7QMhHcAcFO2uhumGBWDrMA8GBDvh7h7Ll7fsPyM/YlK4agVzpi195h/30mtOWf9q3n6/EfHSZoFXfMZYNoXozbVHD8upk+AauVocPgNmzHTtlUUJDQ62tgpWKnboU4OYHvRfnEuKut02o0NSFkd/+sZ3XoNavYRHQ0sO3Ruh8laNkJv3ovqRJ6zTZpetYhveY2pt96BDwNgRpeBKvkgF7OZA8MdjFJJ+jZCOQiJXQZ4ThEINYxbQ6C9nGUYGTUYCjQJxwyAnsKNmqjBCsrYQv5M/8BYdgO/u1nkoqScCoZm0G/I9w7874GEk0jWTWAQc8mbYtQpmDQKIsQjslf4MXzq+nXBQ0S7SSKEBBgT9bGEcZ1PkUILr/K+f71zocvntqNSiEYfcI6uPS2QWBQv4iAiRAIttjTpZHwNhEz0bKkDjrlgbXkEujn8iEMThbRyeiiQ1cyIWquJYMwbsTumnkTHCmEcankGKeAYM4HYWxO75wCQt45jYEUwpiZE2zrORPIk+/Lm3BDSsuHcyeM0+DlrgELEnYnJ4i1Gjh3wpjETCWI1TikjyeQqQnQGEsYa2KEMbdzSQTbmpywLQLwxkwaccK4e0BVhOCqKYTqxIQ/eLPfPddSCO3shCdfXLLFBi+cMK772xz8+OHE0dG4mwgnJD/ieP2NT3x//JBRfYCMtxjCMTk4OHiya44fjb5D+1dvIyLGCXgRiNjdKnku+1vEfn34cMq133np7WPblnRCXHos+TOdrQkvPEJA/Jq/C8AvVa2RVY4dOYQx7TuUREg2lD9h8gddhSFM8eBXkDDUFdgfDutIIYRvcjvVXAj0qnagYzsfQoV+KLjBVPMh1AnpTUmO3o0kEWjDVK3nSoAWqQbNn85mSXdI88gzXbJFNCiHgExS7ZAdj6CrStM1bxikcYgMxwTrqiQNtEta7SDN1d1FpeIY9J5c77iafRGsKZIItLdV7UDN0ZxzSuUJnXZc6p165YnF5bVVSamEgVntuKqtbWl6Va9oFdLuNBpV7+oakkQgtlFtteqVSqWqV41KtUHa7Uq96pkd1JFGAGq91WxUSbViNLYbpEUJFc+E6BFJBNcAWqNFKjqt0yYjdNq2uolVCFYlEZAJdEdBmk+gqdRp2CotrfIItC5TAtQMmkqcABu2Bg17VYHyCBVHdRpUwxM8lRDNEqyj+4hMQp3UGcHPaVShDVQVyyU0SLVR3e8R9MrBThUvefIIer1xRAkNSqAMSqi3K09epZVaIqHeqbIqxypdg3h6bcteWFgGEjW0WrUn1K3KZsXWdUbgLd+6VILL3uPRN5uOQTVgA+r2VbAhq/WmVm3RtlV1jZr/Qgm2PPOQ3oGq8gjbHZow9Op7ZAITIkxlJaEklISSUBJKQkkoCSXh9BPyNqdUMHMrFczeSgWzt1LB7K1UMHsrFczeSgWzt1LB7K1UIMUSFzyJvHM5cwWOFnojf8SQyBvIOSqAQitpHJV4Scv8Zq1AbJm8zRQkaIWzVjB1HsAZ1wNBBUryjn9oPhQAqqC/FUWTbQ/J/JpsyZs3LwpcWg+ARrYc0wEWND0dmqpKXGP2CoRqMo20A0wPqAQAEwDDNZEOAVDmRUHTV2DROFMFGADdV6ACloVzoMBWiANN4FiuwRR4KgwU0F8dMgf1gJUdXwH9ZwID6R5VQOuBQuZEgcMUrBpUgU1ck5Ylnfj1QGNb8JLilyKPLep31s6pjgVYHvD3UbgC+mdLmQMFkK1Kdda5AtYQ8Z4UL0U6/abOgQL+9MVZB6o7qsAg8KJWfAUef3/R2QAarQPAIUpYAVrQZ6/ATVHgd4doCdLpF/1J8euB5SsAc6DA4e/mMAWuxfYECxT4eeAVQUFaKfL7c7QlNZgCjypAOtGgCZkCwsYMBc+DYMsEdi9zTfZlE3ZqHzSceVEQdP59BaxfpLB9T1ivzldgFUDB+Hty8Dol61HQu1hPgYGYAtMf/RdcgdP7BtlWD2x84DdPABtsI0dWtwteijbHe7NBvjfjkX6KgpTYFULB2FLkjX/dnxegQueBmbK5OH8VtdAKjPEzev4k2KwVwHEK9JTNbPjtrtgKHIEXFIutgA5rUq9Q6HqgqZvpVyi0AiCyPUvBFQjMSeIi1wOx3c0KrUBoi9sCK/DEtgEutAKhqflCKxC6RJEViO3/W2QFYvsLF1gBEtsMLF7B8K5OM1Ig9rScK4jugzKsfrYKeqm522H72HZ3D0i39rcmVFzATgZ0LqrRbYJPWMG+rVGiUtGQcxHw3YYWltN2cg6bnwfqm9kOdGyToV1af0Z3r89Twd1gWovWg2j9yVMBKBVEFeBoK1xcBUqcgpgRw5zlwRwoWJh7BeCUKYj0/1C0RzhneYCi0Z0zBfBEFaDpFUTKDIwuyZuzeuBGR6elgjGWRz1wolN9c6bAXoh07eZMgboQ6doVu2cXqQeaHlOwSF6WQx54+rwpGM0DZOr2KGa+7mjQ0p1RzHwpcMmJKsjjjkb0yM5ixc6D+R/px+RB5C+lgjFWzheVCqa3O03B2blXAE6ZguAhQ3Se90RnfiXck6MpPk8K2Agn+rTtRBV4YGqLXvREFZA8FFQifym0gpjH5ifaFgVnM05hMQ+dTzYPxCqCtf+kViNA7Zqks8jOM4GKhzZAI3zGy8BOVgFBK+jqxeVlGk3DWQaOuQJWzcE5FSz6etZLnrCC8WYDADIfinGybVGKnQ4FmY8+KZyCzE6lAqk2kYITfRqbZqdDQeaaXDgFd2BrOv95UJYiqTb/Cpy5L0Xu3CuApQLfZqwgs1OZB1KtVBBYqWAKu0MVFKpXcYcq2Ir8pVQwhd2hCk505Xia3aEKom/3l/VgCrtDFZT9Iql2hyooXD0wsjrNv4LC3Q8yK6hF/lLmwRRWKgisVDCFoVKBb/OmoFAjnPlX4E2ioFA9O+/OzIP5V1Cotsib+56dN/fjg1JBYGVNnsLuUAVlPZBqd6iCeuQvZR5MYaWCwOZNQSPyl3lTELVSwRTmTfImUdRmrECb/jIzVqBOf5lSwRRWKgisVDCFlQoCKxVMYYIKGv6Omny3/rh7eOEVuAp730UjLv2CcYvlC68A8GPTVBpRhb01En39ax4UsA+yN8qJY8QsJSm8AhsQT8UAA2JbwIo536X4NRmwEwXtdVqO2KmmJ7vbQ4oJK2AH4a5o/ChZpBPoUUEW29vOP0RhThS4KzTqTIFGnCXgAQPrQHf4I6kZKsDCCgziLlMFhq+A7xLh74XBwuciDwwCqQJkaOz8EK5AY85385ZpTvIgrECHKlY9hbBTo8l8KHADBYtcATvkmqieSmz/LMXilyK1r0D388DiCthR47B4edCI+Zg6Wop8BXoBFMTkQVxklF5b1Ffg+XmwOfNShMUUgIECNVBgBAoKmAd2zBpgPw+CO5rHzqlHRnHzIE4B70q4NMbQVIYUFLImx80E+zdi2npC2rOjke+3RaCAeYBBbB7wtl9hZ6azOM+dgn06PgDr9A5Mc8DRaac0dD+YDwVsjMzmuB36WZf15RwL9hTw0+IDBZvk5E2sJvuxp3WZfiH2eYew1hSP5sEsckJMgc1jHpwsyGp6hxCTVAd7xRVeQaqVCqawUkFggQKbnLyVeRBYqWAKm2E9QCBYeVuj/a3Yka4ntNpgdgr6m97Q3mL8Qdme0GqDYiggsesK0Bwo4CiY1CMsvALN79cSMrcK9P48foICCCykEGSOn9CarQKD2CwbNtkG1LSb7gE26q6QOmkRW6FdYtMBJgTjT6qeREEn8pdJ7gdcAWZjJqpAwzofg7CaodLfHcwfepkA6BDIzwM38pcJFbgmezLq0BirHouH3zrR0SyxEY2+DTBwNZiyhGsSBZEDfSZTQEeulqvapmPZXAGNOT/a3GYKoO4ayPA0T0Upx51LzYPs9wPHhEagwFLoqJXF1iHAVJGFqAKkYxWlzEzPWIFNm0yHMAUK2aT3YK5gA7DmB+rIgDrNg5RVdFJLUWYFNPU9qgD4zyICBe46uKjRdkmHBvtM2l1hhgo0igJcgeLPwdJSxOICV8CixmYXEFOgwpT+3QwV0LbI8BVsBs8iVN7DgxfAAnvK6OeBXmgFUPcV2MHsmb9yFIEVmv4KYgr08cfRM5upAhQocHgebBJ//TFTYLiGxxQYhVdgh0oRU8ACPHorNlzT01lrShrFVYB03pKi4H5AFQRHS2NgAZM9LUW0LSVFrskarcn+HQ349cALFlBzBYajI5X2jlRU3DxQaNfH1R3Tvx/4NZnHhS0CYq0Q8nt2xVXA7sl+z04JWtNg3Mlu1ZCv2zBdYJ5oHjgkgyFG9njveov1rkndU/hSRDo8oBcCV6kmi3Y2vJTrzC4PPJ7gdiiFad12sg+vZqfAt+PQz7S8wPlTEDb2xHe+FXhggo2fC6WA7UKf3Wl2bVGMITDBPEmh8mAiK1QeTGRSx8lzo6DweZB6skmpYFrbDf0MAwW898RKDxBRcIL1gF2R3adZb4N1UvkgiH2x6W6/X+UrcOmIms2NeUCfbR6wIU6LfrlsWfquv4iDjXtsthxFYad+sImm4M5BI0v7toAfUg34ayqEv6ZykgpY3ntm8MSMJW1v6UkQa7YUCPlfFu1zGPRLw4CvFeKBFvBNoz9r9EOKSxVNo8AWOd6ILYhhyczaPPYyhksjCxWWtCaBwfKfINZ0lMO+HBpfduQKDL7W6NdF+nWOPcdyfA0qmxxDfBpQ4JSlVAWsLLDjEGvBh/kwi/2xn8zsS+V5zx4U8GmWYPrd5K2LFhy7azm+FpPlAPa/tOCdIMBzgXUH76IfwP41NJ5fqQrMJAUmf/Y1WIpk+kMYRx2UYD+Z+TtVhgts1QYsFZEfOcDfFWMR4/EAbPqUKnfol6v2/HsA+kms+a0py8eBCZQiK0mBFVQ3ky8JQ3wYCVgyW70kYhm9xJOXFQ7dHw7TzwLFr4U8u3gtEH3xW+r9wGZ5ebF30uuCX0BZW0Ejq/RKsBUUjiCZgd+G8BnqiVY1TKQgsRTRqwVlAuAgouxBk0H/oAcl2H8vj6/WY00kmvKdym25CoD/Ygh7pMQe62m9qsYKlcFrACssrC3Hfh4wffxnXmX2J1CwO5kCK1GBhF0LsppcBSsmOXGTWw9mIECyAoucvMlVQGZgUhXMzwinVCDVQGSm785WIGErpMwmtxRJ2Dgis8lVMINOhWQFc3NPTuoXOXN/T55VWzSyCmwaBbPIA1tqazqLehA9xDpdASpaTc6uILEmz0KBM4mCmKsIuuZgk+TBuPmik7eJFBRtjCaxJs+/ghnU5H2pNXl+WtPIX+ZMgYYiL/7MshRNoEBBkdfH5kzBJiKji7kDBe7Pk5O3CfpFyDQTSpE7izHaBG2Rd/GqEbmK/21+FJiRq/BvUMKmx5ltAgX43EKSglnMtkxyR1PBvCuIPrCdNwXRPU56bdHcK4DzMkZzlOhV+Le5UeCq0avwb3OjACYqmMUI51QqSC0KaP4VaNGr8G/RJSP83UWQqzAnOuuYqiC6C0OyAn8XTpKjyVUQTWxAO6wNheRnbKQ/OnctVYFK3It63goyr1rGkc7DmJpMh1Bano/XBHdFHLGk+aKYOxqvB3kqgOkKHLL3NS1YE6m4oG/hjwUKUJx4ZxHkOfABSQoU7avmZ86CMRZuYMYpcE3SJrmZG6vABSIWoyCmFKlMQY3kZQjEtNa2CUPxVITer0pWwDZ+xBOtYexZb/WdQZ50wYUfxiXmSCmdYteTmDEae9MYZVFwgAip2zbIYpE8IJktca4CA8013YiCXQKBRMtHASuh567xYgjyNnkKwltLZE3kyze/plQR7dqzwTbwHzdCf21/qq9+0goUsKxW2ZskrPWt+7Gs+bf6lj+3Xw8rwKkKjHwUXNm1SOMmW26ts1DD77rq/kswuh89q6+A3jKw/y1QADMoMHNREJjKt/Hpx7n3zeS7IEUVdPrPV5D/hS2BUkRyVIDZWxF8TftAQcuP7CAPiEXG3rbTBOg5K7BVvg7V39c1UBDkgaClCIiMn+TeD1S2dG141Y5Y1L9sWUDMItBpFESSg5UiZUTBEf8f6HvkdXPPf4llctNrO0Sigmgp8ti7CBa9JDuX6bK5ABaBFFONneTYSFIQdHAVqLItxRLtWvD9wrj4GtkmOyQpCMVay9ZPm3pUPY2CwVAjfBtShyLol/tAKwqHyJpWkqPAG6SoN27/AFti2vevKUVBYJi11mlx8yTPBMi9owEjfTFzoRUQVrhhWh5MNQqN2hQKYra1ZZHHaXnAZA73QKeq1HIViJgneUJJbikSMSR5clvWHU3cG0meljz5UlSgPJhYQZkHw3byCuApUNAgMu3kW1MI3k5k2onnAQYFqskTlWe+uaBMm6YUTbYyxHlwReoz8xkokLwm5uQV1NC8K2gXR4E3YUzmX4End4VhZwKfaRVIHeFMlKPTKpDaL4KTXC1QgCdUgKXek+1JruZMeVOVqWCyvnqxFEzSLkyrQOYRic5EUzU9BbuTUok0cybr6PYUtCbFEglmB4+wJ2pOegrQhLemyRW4kh4/9BRMOofrjg3FBG4ZR2jw8GGcXZ4sBv2aPGGNdoPKd9T7Q3XfcV4HGW2aFq2vINO+JwhMb7J6VH0F0SfKnvPOswBYkYUi+tDzm3S7wEr4l99LcrK+AqxIXPp0km8zDO5obrZI3v8R/m2NNSBdMkML3ZMTonqu/5PyeLD40B10YPAsNt0ZsnCvAgGd9lGDVmVP8AJ5rswWsmn7RbPZ8SVs0yuYxdsjYZtewSzeogrb1Arg3CtAE46UpU3bT60gsTlNqSDS2rCpFZD4Sb/aHCnwq7IzMg/v9HutCVYgBX6X0B5Z9+eQw/FuBVLgL+yxR9Zept7oCqQA8xkGZ2SUl6yATa45Ek/Nnl4B32ycxWkoVYF5yHcub/DWFrL3YRyNzwjZgC8oKZIC/to2bXkUvhyJLapyVARU12JP/Dc5gB2Uy7aJdwA7OM1kB8oWSQHbat3PAweYbO99DwAPqA57r4nVD5PXdsXj2+2zb4ZzQSmUAhYnpoAtNWenTLL3mSxgOexYWcs2WGuLdKKy82QdsoV0ZLITEoukgKazRqOEaQFZ0l3dMRyDxpyWq016r7At1nHydKxCE1EFfGKKBlgFaov86ULHgqqneRpkxwea36aKHFOlNdjhXT+sYc0xke74hxTQ8mYWSgGrsTbb5d5gnSTXZC0pU6DR2Nd8BarH8kbnzREfzxZLAWt/2AkY/IxJ7L84QhVYNLqBAnaaoH9ogoGBwpYWmoWqB+ydFfscP/yQSTH9o5RZHqCgFBGF1gF+5AP7wAZgVZ1IMkfSlRz/lEbe3IcVBHlg0xrBvvMjBwz2gQIq4EeL65C2OYCM1gO2fMHvbdP/kd47FkUOWZoC2gqZrB6jXj0ItUXs8UzQC7do08oOoiyeAgsaLK6Oxco+v2nR0tRX4NJaYnh6nThrpqfbJjQLpwCw08N10qAxZkfKcgXsrmb7Cmj5hxqk9wMAVXpbMEABFVhI81RMe0M27T3Qe4LGvvgprIECdnAO7Rf53wApYB54/Lze4Kgc01FcCwKlpwDx1zFoz469n2SygGLd0dh1CKb9zd5BPwpxVUjbTZ20+OuDfPWCq/LDXGyFv9tQOAU1psBhp0AtG2zMwwc2w2/5BysfEJFrjrylfm0+0GQzWcfkBM0BZM6tVDB7KxXM3koFs7dSweytVDB7KxXM3koFs7dSweytVDB7KxXM3koFs7dSwcyNOP8fzUYjXrwuu9MAAAAASUVORK5CYII=)\n",
    "\n",
    "[$-r_A=12.95C_A^?$]"
   ]
  },
  {
   "cell_type": "markdown",
   "id": "598ca981",
   "metadata": {
    "id": "Jp_wpI1Vmrr9"
   },
   "source": [
    "## Q9\n",
    "\n",
    "The irreversible gas phase reaction:\n",
    "$$ A\\to 4B$$\n",
    " \n",
    "was studied in the following batch reactor setup:\n",
    "\n",
    "![T19.png](data:image/png;base64,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)\n",
    " \n",
    "The reactor operates at constant volume of 25 liters if the pressure in the reactor is less than 2 bar. At 2 bar the pressure switch releases (see sketch), this activates the stopwatch and causes the reactor to operate as a constant pressure reactor (i.e. the piston will move and the reaction volume will change). An experiment was performed starting with 50% A and 50% inerts at 1.3 bar and 118°C at time=to. The following data was generated after the stopwatch got activated :\n",
    " \n",
    "\n",
    "Time - ts (min)|\tV/Vo\n",
    "---|---\n",
    "0|\t1.00\n",
    "1|\t1.10\n",
    "3|\t1.22\n",
    "5|\t1.29\n",
    "7|\t1.34\n",
    "9|\t1.37\n",
    "11|\t1.40\n",
    "13|\t1.42\n",
    "15|\t1.44\n",
    "17|\t1.45\n",
    "\n",
    "a)\tWhat is the composition of the gas mixture when the stopwatch gets activated (at ts=0) [21% 47% 32%]\n",
    "\n",
    "b)\tHow long does it take before the stopwatch gets activated (time from to to ts=0) [1.75 min]\n",
    "\n"
   ]
  },
  {
   "cell_type": "markdown",
   "id": "ebd78e2f",
   "metadata": {
    "id": "CVbWtC_8mrr-"
   },
   "source": [
    "## Q10\n",
    "\n",
    "The following gas phase reactions occurs in a constant pressure batch reactor     (piston reactor).\n",
    "\n",
    "$$ A+2B\\to 30C\\: k_{1A} = 2M^{-2}s^{-1} $$\n",
    "$$ 10C+B\\to 2A\\: k_{2B} = 8M^{-2}s^{-1}\\: (kC_C^2C_B) $$\n",
    "\n",
    "The pressure is set at 2 bar and the temperature remains at 300K. An initial composition of 20% A and 80% B is fed. The first reaction is known to be elementary. Determine the maximum expansion (V/Vo) and the time at which it occurs. (@90 sec V/Vo=1.37)\n"
   ]
  }
 ],
 "metadata": {
  "kernelspec": {
   "display_name": "Python 3 (ipykernel)",
   "language": "python",
   "name": "python3"
  },
  "language_info": {
   "codemirror_mode": {
    "name": "ipython",
    "version": 3
   },
   "file_extension": ".py",
   "mimetype": "text/x-python",
   "name": "python",
   "nbconvert_exporter": "python",
   "pygments_lexer": "ipython3",
   "version": "3.10.9"
  }
 },
 "nbformat": 4,
 "nbformat_minor": 5
}
