{
 "cells": [
  {
   "cell_type": "markdown",
   "metadata": {},
   "source": [
    "### Tutorial 1\n",
    "\n",
    "**Q 1**\n",
    "\n",
    "Consider a system with the following reaction:\n",
    "\n",
    "$$ A + B \\to C + D $$\n",
    "\n",
    "The reaction is known to follow the reaction kinetics: \n",
    "\n",
    "$$ r_A = -kC_AC_B $$ \n",
    "\n",
    "with k = 6 L/mol.min. \n",
    "\n",
    "The reaction setup consists of two reaction vessels connected in series, with an outlet at 150 mL each. The system is perfectly mixed and the system is initially completely empty.\n",
    "\n",
    "![Reaction scheme](Tut_1_Q_1.jpg)\n",
    "\n",
    "a) If two tubes with flowrates of 150 mL/h of 0.04 mol/L A and 150 mL/h of 0.02 mol/L B was initiated at time 0 to start filling the reaction system, what would the concentration profiles of A, B, C, and D look like for the first 2 hours of operation?\n",
    "\n",
    "b) How long would the system in a) take to reach steady state?\n",
    "\n",
    "\n"
   ]
  },
  {
   "cell_type": "markdown",
   "metadata": {},
   "source": []
  }
 ],
 "metadata": {
  "kernelspec": {
   "display_name": "Python 3 (ipykernel)",
   "language": "python",
   "name": "python3"
  },
  "language_info": {
   "codemirror_mode": {
    "name": "ipython",
    "version": 3
   },
   "file_extension": ".py",
   "mimetype": "text/x-python",
   "name": "python",
   "nbconvert_exporter": "python",
   "pygments_lexer": "ipython3",
   "version": "3.10.9"
  }
 },
 "nbformat": 4,
 "nbformat_minor": 4
}
