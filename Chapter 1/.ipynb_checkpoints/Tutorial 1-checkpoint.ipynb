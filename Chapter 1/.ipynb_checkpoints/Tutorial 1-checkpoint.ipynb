{
 "cells": [
  {
   "cell_type": "markdown",
   "metadata": {},
   "source": [
    "# Tutorial 1\n",
    "\n",
    "## Q 1\n",
    "\n",
    "Consider a system with the following reaction:\n",
    "\n",
    "$$ A + B \\to C + D $$\n",
    "\n",
    "The reaction is known to follow the reaction kinetics: \n",
    "\n",
    "$$ r_A = -kC_AC_B $$ \n",
    "\n",
    "with k = 6 L/mol.min. \n",
    "\n",
    "The reaction setup consists of two reaction vessels connected in series, with an outlet at 150 mL each. The system is perfectly mixed and the system is initially completely empty.\n",
    "\n",
    "![Reaction scheme](Tut_1_Q_1.jpg)\n",
    "\n",
    "a) If two tubes with flowrates of 150 mL/h of 0.04 mol/L A and 150 mL/h of 0.02 mol/L B was initiated at time 0 to start filling the reaction system, what would the concentration profiles of A, B, C, and D look like for the first 2 hours of operation?\n",
    "\n",
    "b) How long would the system in a) take to reach steady state?\n",
    "\n",
    "\n"
   ]
  },
  {
   "cell_type": "markdown",
   "metadata": {},
   "source": [
    "## Q2\n",
    "The following catalysed liquid reaction occurs in a constant volume batch reactor:\n",
    "$$A \\to B+3C$$\n",
    "Assume the following reaction rate applies:\n",
    "$$ r' = k'C_A^m$$\n",
    "The rate constant at 100°C is given as 0.2 $l.gkat^{-1}min^{-1}$. \n",
    "\n",
    "HINT: $$inits\\: for\\: r' = mol/(gkat.min)$$\n",
    "$$inits\\: for\\: k' = L/(gkat.min)$$\n",
    "\n",
    "What is the value for n that makes the LHS = RHS\n",
    "\n",
    "The initial concentration (t=0) of A is 12 mol/l.\n",
    "\n",
    "    a) If 2 gram of catalyst is added to 3l of reaction mixture, how long will it take to convert 50% of A. [5.2 min]\n",
    "    b) How long will it take to convert 50% if 4 gram of catalyst is used? [2.6 min]\n",
    "    c) How long will it take to convert 100% of A?\n",
    "    d) If A is diluted with water so that the initial concentration of A is 6 mol/l, what conversion will be obtained after 2.6 minutes (using 4 gram of catalyst)? [50%]\n",
    "    e) If the reaction was second order with the same value rate constant, what will the units of the rate constant be?, what will be the answer to (b)?, what will be the answer to (d) if you use 0.31 min instead of 2.6 min? [l2mol-1g-1min-1 , 0.31 min , 33%]\n",
    "    f) For problem (a), what is the expression of –r_A (liter based rate)? [-r_A = 0.133C_A]\n"
   ]
  },
  {
   "cell_type": "markdown",
   "metadata": {},
   "source": [
    "## Q3\n",
    "Consider the following reaction:\n",
    "$$A+B \\to C $$\n",
    "\n",
    "The reaction rate can be described by:\n",
    "\n",
    "$$ r = kC_AC_B $$ with a rate constant of 0.1 $l.mol^{-1}hr^{-1}$ and an equimolar initial feed of 5 mol/l of A and 5 mol/l of B.\n",
    "\n",
    "    a) Use Python to obtain the time required to convert 30% of A. [51.4 min]\n",
    "    b) If the initial concentration of A stays 5 mol/l and the initial concentration of B becomes 7.5 mol/l, how long does \n",
    "    it take to convert 30% of A? [32 min]"
   ]
  },
  {
   "cell_type": "markdown",
   "metadata": {},
   "source": [
    "## Q4\n",
    "\n",
    "The following two liquid phase reactions occur at 60°C in a batch reactor.\n",
    "\n",
    "$$ A+R\\to 2R $$\n",
    "with$$ r = kC_AC_R $$\n",
    "\n",
    "$$R\\to S\\:(catalysed)$$\n",
    "with\n",
    "$$r' = k'C_R$$\n",
    "\n",
    "\n",
    "The first reaction occurs spontaneously while the second (decomposition of R) occurs due to the presence of a solid catalyst. The rate constant of the first reaction is 0.05 l/(mol.min) while the rate constant of the second reaction is 0.005 l/(g.min). \n",
    "\n",
    "The following was measured for a run where 2 mol/l of A and 0.1 mol/l of R were fed as initial feed.\n",
    "\n",
    "Time (min)| $r_R$ (mol/l.min)\n",
    "---|---\n",
    "0|0.0087\n",
    "8|0.0154\n",
    "16|0.0254\n",
    "24|0.0322\n",
    "32|0.0323\n",
    "40|0.0221\n",
    "48|0.0093\n",
    "56|-0.0013\n",
    "64|-0.0077\n",
    "72|-0.0108\n",
    "80|-0.0121\n",
    "\n",
    "What was the concentration of the solid catalyst?"
   ]
  },
  {
   "cell_type": "markdown",
   "metadata": {
    "id": "67BkGbq_ByaV"
   },
   "source": [
    "# Q5\n",
    "\n",
    "For a first order ($r = kC_A$) catalytic reaction where component A converts to products. How much more catalyst does a CSTR require than a PFR to obtain a conversion of 99.99%. Give the answer as a ratio of the two catalyst masses."
   ]
  },
  {
   "cell_type": "markdown",
   "metadata": {
    "id": "GLe-FnZuByaV"
   },
   "source": [
    "# Q6\n",
    "\n",
    "The aqueous decomposition of A is studied in an experimental mixed reactor. Assume the reaction follows the following reaction rate: $$r = kC_A^m$$\n",
    "The results in the table are obtained in steady-state runs. To obtain 75% conversion of reactant in a feed with $C_{A0}$ = 0.8 mol/l, what residence time is required:\n",
    "\n",
    "a) in a plug flow reactor [300 s]\n",
    "\n",
    "b) in a mixed flow reactor [1200 s]\n",
    "\n",
    "|Concentration of A, mol/l|Concentration of A, mol/|Residence time, sec|\n",
    "|---|---|---|\n",
    "|In Feed|In Exit||\n",
    "|2.00|0.65|300|\n",
    "|2.00|0.92|240|\n",
    "|2.00|1.00|250|\n",
    "|1.00|0.56|110|\n",
    "|1.00|0.37|360|\n",
    "|0.48|0.42|24|\n",
    "|0.48|0.28|200|\n",
    "|0.48|0.2|560|\n",
    "\n",
    "**HINTS:** \n",
    "1. Residence time = V/Q, \n",
    "2. Determine the values for $k$ and $m$ first\n"
   ]
  },
  {
   "cell_type": "markdown",
   "metadata": {
    "id": "6Lggw_liByaS"
   },
   "source": [
    "# Q7\n",
    "Determine the conversion in a CSTR and PFR for the following:\n",
    "Reaction: \n",
    "$$A \\to B$$ \n",
    "irreversible\n",
    "\n",
    "V = 4 liter, \n",
    "\n",
    "Q= 2 l/min, \n",
    "\n",
    "$C_{Ao} = 8 mol/l$, \n",
    "\n",
    "$-r_A = 0.5C_A$\n",
    "\n",
    "Which reactor is best and why? [CSTR – 50%, PFR – 63%]"
   ]
  },
  {
   "cell_type": "markdown",
   "metadata": {
    "id": "n57_FFxdByaU"
   },
   "source": [
    "# Q8\n",
    "\n",
    "Determine the conversion in a CSTR and PFR for the following:\n",
    "\n",
    "Reaction: \n",
    "$$A+B \\to 2B$$ irreversible (autocatalytic)\n",
    "\n",
    "V = 4 liter,\n",
    "\n",
    "Q = 2 l/min,\n",
    "\n",
    "$C_{Ao} = 7.99 mol/1$, \n",
    "\n",
    "$C_{Bo} = 0.01 mol/1$, \n",
    "\n",
    "$-r_A = 0.125C_AC_B$\n",
    "\n",
    "Which reactor is best and why?[CSTR – 50%, PFR – 0.8%]\n",
    "\n",
    "What would have happened if we fed only A at CAo = 8 mol/l. "
   ]
  },
  {
   "cell_type": "markdown",
   "metadata": {
    "id": "lyzNDm27ByaV"
   },
   "source": [
    "# Q9\n",
    "For the liquid reaction where A is converted into products the rate constant is given as $0.25 l. g^{-1}.min^{-1}$. (Assume $r' = k'C_A^m$)\n",
    "\n",
    "a) What volume of PFR is needed to convert 60% of A? The catalyst bed density is 800g/l, the volumetric flowrate to the reactor 15 l/min and the intial concentration of A is 5 mol/l (no products are fed). [V=68.8 ml]\n",
    "\n",
    "b) What volume CSTR is needed to convert 60% of A if the same conditions are used? The catalyst concentration is 50g/l. [V=1.8 l]"
   ]
  },
  {
   "cell_type": "markdown",
   "metadata": {
    "id": "VS7YzVOkByaV"
   },
   "source": [
    "# Q10\n",
    "\n",
    "Q1T22010\n",
    "The following liquid phase catalytic reaction:\n",
    "\n",
    "$$ A \\to Product $$\n",
    "is studied in continuous reactor setup consisting out of CSTR followed by a PFR (CSTR-PFR in series). The CSTR contains 400 grams of catalyst and the PFR 300 grams . The rate constant is known to be 0.2 l2/(mol.g.min) (assume $r' = k'C_A^m$). The catalyst density in the CSTR is 5 g/l, while the packing density in the PFR is 800 g/l. Given an inlet flowrate to the reactor of 35 l/min with the concentration of A at 1.3 mol/l, determine the following.\n",
    "\n",
    "a) The conversion in the CSTR [2]\n",
    "\n",
    "b) The overall conversion [4]\n",
    "\n",
    "c) The conversion over the PFR (based on the inlet to the PFR) [2]"
   ]
  },
  {
   "cell_type": "code",
   "execution_count": null,
   "metadata": {},
   "outputs": [],
   "source": []
  }
 ],
 "metadata": {
  "kernelspec": {
   "display_name": "Python 3 (ipykernel)",
   "language": "python",
   "name": "python3"
  },
  "language_info": {
   "codemirror_mode": {
    "name": "ipython",
    "version": 3
   },
   "file_extension": ".py",
   "mimetype": "text/x-python",
   "name": "python",
   "nbconvert_exporter": "python",
   "pygments_lexer": "ipython3",
   "version": "3.10.9"
  }
 },
 "nbformat": 4,
 "nbformat_minor": 4
}
