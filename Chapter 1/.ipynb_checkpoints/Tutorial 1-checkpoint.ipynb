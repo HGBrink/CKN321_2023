{
 "cells": [
  {
   "cell_type": "markdown",
   "metadata": {},
   "source": [
    "### Tutorial 1\n",
    "\n",
    "1) What is the enthalpy of combustion of glucose? [2840 kJ/mol]\n",
    "\n",
    "2) What is the available free energy of the [ATP to ADP reaction](https://en.wikipedia.org/wiki/ATP_hydrolysis)? [69 kJ/mol]\n",
    "\n",
    "3a) How much [ATP is formed per oxygen](https://en.wikipedia.org/wiki/P/O_ratio) reacting?\n",
    "\n",
    "\n",
    "3b) What is the [mechanical efficiency](https://openoregon.pressbooks.pub/bodyphysics/chapter/human-metabolism/) of the human body? How much of the inefficiency happens within the reactions of cellular respiration (where ATP is formed) and how much happens when ATP is hydolysed for example within muscle cells?"
   ]
  },
  {
   "cell_type": "markdown",
   "metadata": {},
   "source": [
    "4) The average man of 70kg has a [basal metabolic rate](https://en.wikipedia.org/wiki/Basal_metabolic_rate) of 80W. How many Bar One bars of 55g is required per day to provide the energy requirement?\n"
   ]
  },
  {
   "cell_type": "code",
   "execution_count": 1,
   "metadata": {},
   "outputs": [],
   "source": [
    "import numpy as np\n",
    "import matplotlib.pyplot as plt\n",
    "\n",
    "Bar_one_energy=255*4.184 #kJ\n",
    "human_BMR=80*3600*24/1000 #kJ\n",
    "n=human_BMR/Bar_one_energy"
   ]
  },
  {
   "cell_type": "code",
   "execution_count": 2,
   "metadata": {},
   "outputs": [
    {
     "data": {
      "text/plain": [
       "6.478461365425711"
      ]
     },
     "execution_count": 2,
     "metadata": {},
     "output_type": "execute_result"
    }
   ],
   "source": [
    "n"
   ]
  },
  {
   "cell_type": "markdown",
   "metadata": {},
   "source": [
    "5) An [elite cyclist](https://en.wikipedia.org/wiki/Human_power) can produce an average of 400W of mechanical power for 2 hours. If this cyclist has a BMR of 80W, how many Bar One bars does he require if we assume that he is at  rest for the remainder of the day? \n"
   ]
  },
  {
   "cell_type": "code",
   "execution_count": 3,
   "metadata": {},
   "outputs": [
    {
     "data": {
      "text/plain": [
       "17.275896974468562"
      ]
     },
     "execution_count": 3,
     "metadata": {},
     "output_type": "execute_result"
    }
   ],
   "source": [
    "extra_energy=400*(1/0.25)*3600*2/1000 #kJ\n",
    "n2=(human_BMR+extra_energy)/Bar_one_energy\n",
    "n2"
   ]
  },
  {
   "cell_type": "markdown",
   "metadata": {},
   "source": [
    "6) What is the rate of oxygen consumption of an average man at rest in ml/min/kg?\n"
   ]
  },
  {
   "cell_type": "code",
   "execution_count": 4,
   "metadata": {},
   "outputs": [
    {
     "data": {
      "text/plain": [
       "4.44994173267279"
      ]
     },
     "execution_count": 4,
     "metadata": {},
     "output_type": "execute_result"
    }
   ],
   "source": [
    "PO=(2.73*(10/12)+1.64*(2/12))\n",
    "#PO=3\n",
    "ATP_hyd=69 #kJ/mol\n",
    "mol_ATP=human_BMR/ATP_hyd #mol P made/day\n",
    "mol_O2_min=mol_ATP/PO/2/24/60\n",
    "ml_per_mole=8.314*(273+25)/101.325*1000\n",
    "ml_kg_min=mol_O2_min*ml_per_mole/75\n",
    "ml_kg_min"
   ]
  },
  {
   "cell_type": "markdown",
   "metadata": {},
   "source": [
    "7) Do a VO2 max calculation, what is the energy output?\n"
   ]
  },
  {
   "cell_type": "code",
   "execution_count": 5,
   "metadata": {},
   "outputs": [
    {
     "data": {
      "text/plain": [
       "6912.0"
      ]
     },
     "execution_count": 5,
     "metadata": {},
     "output_type": "execute_result"
    }
   ],
   "source": [
    "human_BMR\n"
   ]
  },
  {
   "cell_type": "code",
   "execution_count": null,
   "metadata": {},
   "outputs": [],
   "source": []
  }
 ],
 "metadata": {
  "kernelspec": {
   "display_name": "Python 3",
   "language": "python",
   "name": "python3"
  },
  "language_info": {
   "codemirror_mode": {
    "name": "ipython",
    "version": 3
   },
   "file_extension": ".py",
   "mimetype": "text/x-python",
   "name": "python",
   "nbconvert_exporter": "python",
   "pygments_lexer": "ipython3",
   "version": "3.8.3"
  }
 },
 "nbformat": 4,
 "nbformat_minor": 4
}
