{
 "cells": [
  {
   "cell_type": "markdown",
   "metadata": {},
   "source": [
    "# Chapter 1: Basics of Chemical Kinetics\n",
    "\n",
    "## It is all about energy\n",
    "\n",
    "Have you ever wondered what the purpose of life is? Not for humans specifically but for all lifeforms on earth? The answer is relatively straightforward. It is to procreate, making offspring is the name of the game. Ensuring that your genes get transferred beyond your own lifespan. Just look at bacteria, it is all about growing and creating offspring. We'll employ this principle in detail when we start to model our [anaerobic digesters](https://en.wikipedia.org/wiki/Anaerobic_digestion). \n",
    "\n",
    "<img src=\"joke_jpg.jpg\" width=\"400\" />\n",
    "\n",
    "In order to procreate an organism requires energy, in fact in the bacterial kingdom about 99% of energy is spent on procreation (or growth). Live can be interpreted as a scramble for energy, without it life is not possible. Food contains the energy that organisms require to grow. In this chapter we'll be looking at how humans obtain and use energy. Before we can start with calculations we need a throrough background on the process of obtaining energy from food. Below you will find a consise introduction with numerous references. If you feel that you are thrown into the deep side, it is a good thing, at least the confused mind is aware of the fact that a picture has not formed yet. Ensure to work on your picture of the understanding of life.😀\n",
    "\n",
    "[Video: Bacterial growth](https://youtu.be/gEwzDydciWc )"
   ]
  },
  {
   "cell_type": "markdown",
   "metadata": {},
   "source": [
    "## Respiration\n",
    "\n",
    "It was about 2 billion years ago when the [development of life](https://en.wikipedia.org/wiki/Evolution) made a major breakthrough in obtaining energy in an oxygen-rich environment. During this event an [archaea cell](https://en.wikipedia.org/wiki/Archaea) consumed a [bacterial cell](https://en.wikipedia.org/wiki/Bacteria). The consumed bacterial cell did not get digested but managed to survive within the archaea cell. The bacterial cell formed a beneficial [symbiotic relationship](https://en.wikipedia.org/wiki/Symbiosis) with the archea cell, by exchanging [ATP](https://en.wikipedia.org/wiki/Adenosine_triphosphate) for nutritional molecules. This beneficial relationship resulted in the formation of all [multicellular life](https://en.wikipedia.org/wiki/Eukaryote). Over time the bacterial cell altered itself to become the [mitochondrion](https://en.wikipedia.org/wiki/Mitochondrion). Today there are about 300 000 mitochondria (bacterial remnant) in each human cell that facilitate the process of [aerobic respiration](https://en.wikipedia.org/wiki/Cellular_respiration). The mitochondrion has its own unique [DNA](https://en.wikipedia.org/wiki/DNA) when compared to the DNA in the [nucleus](https://en.wikipedia.org/wiki/Cell_nucleus) of each human cell, thus providing evidence of its single cell origin. \n",
    "\n",
    "[Video: Mitochondria](https://www.youtube.com/watch?v=dxZN3KYEZjk)\n",
    "\n",
    "Before we go any further, it is imperative to understand the difference between Prokaryotes and Eukaryotes:\n",
    "\n",
    "[Video: Prokaryotes vs Eukaryotes](https://www.youtube.com/watch?v=RQ-SMCmWB1s)\n",
    "\n",
    "There are a lot of new concepts used in the paragraph and video above. Some will be elaborated on in upcoming chapters. Please use your browser to elucidate some of the terms and definitions. You are not required to have an in-depth understanding of all these new concepts, so be careful of spending too much time browsing, you can always get back to these concepts later. Ensure that you are a least ready for discussing your understanding in the group sessions of CBI310. More clarity will develop as we discuss and talk about it.\n",
    "\n",
    "As chemical engineers we need a basic understanding of the biochemistry involved to generate ATP. The calculations of this chapter will all centre around aerobic respiration, so ensure to build a basic biochemical understanding of this process (occuring wihthin your own body).\n",
    "\n",
    "[Respiration basics]( https://youtu.be/ZkqEno1r2jk )\n",
    "\n",
    "Pyruvate or [pyruvic acid](https://en.wikipedia.org/wiki/Pyruvic_acid) is a very important molecule to consider when trying to understand how energy (ATP) is derived from food. You are probably familiar with the fact that all your energy is derived from either [carbohydrates](https://en.wikipedia.org/wiki/Carbohydrate), [proteins](https://en.wikipedia.org/wiki/Protein) and [fats](https://en.wikipedia.org/wiki/Fat). Pyruvic acid can be seen as the metabolic intermediate obtained from the breakdown of carbohydrates, proteins and fat. It is also the feed molecule to the mitochondria. The resulting products from this reaction is CO₂, water and ATP. In our analysis we will be using the carbohydrate [glucose](https://en.wikipedia.org/wiki/Glucose) as the standard starting molecule for generating energy (ATP) since glucose is the most common energy containing substance in human blood. It is important to understand that fatty acids from fats and amino acids from proteins can also be used as energy supply. Similar to glucose these molecules will break down to pyruvic acid before entering the mitochondria.  \n",
    "\n",
    "The breakdown of glucose to pyruvic acid is referred to as [glycolysis](https://en.wikipedia.org/wiki/Glycolysis). The short video below gives an overview of glycolysis:\n",
    "\n",
    "[Glycolysis](https://youtu.be/8Kn6BVGqKd8)\n",
    "\n",
    "The diagram below is a good reference point for glycolysis:\n",
    "\n",
    "<img src=\"glyc.png\" width=\"1000\" />\n",
    "\n",
    "Once pyruvate is formed the [TCA cycle](https://en.wikipedia.org/wiki/Citric_acid_cycle) within the mitochondria can be employed to generate NADH and CO₂ from pyruvate:\n",
    "\n",
    "[TCA cycle](https://www.youtube.com/watch?v=F6vQKrRjQcQ)\n",
    "\n",
    "The following diagram is a good reference for the TCA cycle:\n",
    "\n",
    "<img src=\"TCA.png\" width=\"800\" />\n",
    "\n",
    "The last step of aerobic respiration involves the generation of ATP from NADH in the process of [oxidative phosphorilation](https://en.wikipedia.org/wiki/Oxidative_phosphorylation)\n",
    "\n",
    "\n",
    "[Electron transport chain](https://www.youtube.com/watch?v=xbJ0nbzt5Kw)\n",
    "[ATP synthase](https://www.youtube.com/watch?v=3y1dO4nNaKY)\n",
    "\n",
    "How beautifull is the ATP synthase protein. An arrangement of amino acids that results in a moving biochemical molecule:\n",
    "\n",
    "<img src=\"atpsyn.gif\" width=\"300\" />\n",
    "\n",
    "It is useful to think of the combustion of coal when thinking about generating energy in your own body. The energy generation process is all about burning molecules with carbon backbones in an oxygen rich environment to form water and CO₂. When coal is burned there is a fire and things get very hot, but when food is burned we need to perform the operation at 37C and accordingly we need some fancy catalysts called enzymes to facilitate the process. Over 4.5 years of evolution nature has developed the most beautiful set of chemistry to release energy from molecules like carbohydraytes, proteins and fats. It is amazing to realise that the amoba in the pond below Engineering 1 building uses the exact same set of chemistry steps to generate energy as we humans do. \n"
   ]
  },
  {
   "cell_type": "markdown",
   "metadata": {},
   "source": [
    "## Energy in the human body\n",
    "\n",
    "We now have some background on how energy gets generated within the human body. Given this background we want to perform some basic calculations. Let's start with the body of an average male weighing 75kg. It is well established that the average male requires an energy intake (via food) of 9000kJ. This figure assumes that only daily task are performed, since additional exercise will increase the number. Let's assume for now that the man, let's call him Ben, only consumes Coke for his diet. This is off course not a very healthy diet but it will at least simplify the calculations. The first question to answer is how many Coke cans (330mL) will Ben require in a day to sustain himself? Try and perform the calculation in Ipython notebooks by looking at the example below: "
   ]
  },
  {
   "cell_type": "code",
   "execution_count": 2,
   "metadata": {},
   "outputs": [
    {
     "name": "stdout",
     "output_type": "stream",
     "text": [
      "1.1111111111111112\n"
     ]
    }
   ],
   "source": [
    "import numpy as numpy\n",
    "\n",
    "#Let's calculate the moles of 200g of glucose:\n",
    "\n",
    "mass_gluc=200 #grams\n",
    "MM_gluc=180  #g/mol\n",
    "mol_gluc=mass_gluc/MM_gluc\n",
    "print(mol_gluc)"
   ]
  },
  {
   "cell_type": "markdown",
   "metadata": {},
   "source": [
    "Now perform the required calculation in this notebook, using the cell below:"
   ]
  },
  {
   "cell_type": "code",
   "execution_count": null,
   "metadata": {},
   "outputs": [],
   "source": []
  },
  {
   "cell_type": "markdown",
   "metadata": {},
   "source": [
    "Do the calculation yourself. You should get an answer of just over 15 cans (330mL). Coke consists mainly of sugar(carbohydrates) and sugar has an energy content of 17kJ per dry gram. Can you confirm this figure from the nutritional information that you have Googled? How many (dry) grams of sugar does Ben burn within an hour? [22g].How many teaspoons of sugar is this within an hour? [5.5] "
   ]
  },
  {
   "cell_type": "code",
   "execution_count": null,
   "metadata": {},
   "outputs": [],
   "source": []
  },
  {
   "cell_type": "markdown",
   "metadata": {},
   "source": [
    "Aerobic respiration has the following overall formula if we assume that only carbohydrates are used as fuel:\n",
    "\n",
    "$$C_6 H_{12} O_6+6O_2 \\to 6CO_2+6H_2 O$$\n",
    "\n",
    "(Sugar has a formula of $C_{12} H_{22} O_{11}$ and this can merely be seen as two glucose molecules minus a water molecule. We prefer to work with the monosacccharide glucose $C_6 H_{12} O_6$ in our calculations). Determine the volume of oxygen that Ben consumed within an hour (at Petoria ambient conditions). At rest conditions Ben uses 12 breaths per minute. Ben takes in 600mL of air on each breath. Determine the oxygen volume fraction in Ben's outbreath. You can assume that volume of air on the inbreath is the same as that of the outbreath [0.158%]."
   ]
  },
  {
   "cell_type": "code",
   "execution_count": null,
   "metadata": {},
   "outputs": [],
   "source": []
  },
  {
   "cell_type": "markdown",
   "metadata": {},
   "source": [
    "Let's now try and calculate the amount of ATP molecules that get's generated per second in Ben's body. In order to do this we must look at glycolysis and the TCA cycle. Note that the six carbon molecule of glucose splits into two 3 carbon molecules and that each of these go onto the TCA cycle. Also note that GTP is the same as ATP. You will also have to count the amount of NADH that forms, since NADH is used in oxidative phosphorilation to generate ATP. Note that $QH_2$ in the graph above is the same as FADH. FADH is an electron carrier similar to NADH, only difference is that the electrons in FADH contains slightly less energy. The overall process of oxidative phosphorylation can be descibed by the following equations: \n",
    "\n",
    "$$NADH+\\frac{1}{2}O_2 \\to (P/O)_{NADH}\\, ATP+H_2 O$$\n",
    "\n",
    "$$FADH_2+ \\frac{1}{2}O_2  \\to(P/O)_{FADH_2}\\, ATP+H_2 O$$\n",
    "\n",
    "The theoretical values for $(P/O)_{NADH}$ is 3 and $(P/O)_{FADH_2}$ is 2. $(P/O)$ stands for phosphate (added to ADP to form ATP) per atomic oxygen (thus the $\\frac{1}{2}O_2$ in the equation).\n",
    "\n",
    "Given this information you should be able to calculate 38 ATP molecules per molecule of glucose consumed. In real life the $(P/O)_{NADH}$ value is closer to  1.5 and the $(P/O)_{FADH_2}$ value is closer to 1 due to inefficiencies of respiration. This will reduce the 38 molecules of ATP to 21 molecules. Do you agree?\n",
    "\n",
    "If we count the molecules of ATP that gets formed within Ben's body every second, we see that it is 452 billion billion molecules. Just imagine how many ATP synthase molecules is required to perform this huge task.🤔. Can you confirm this number?"
   ]
  },
  {
   "cell_type": "code",
   "execution_count": null,
   "metadata": {},
   "outputs": [],
   "source": []
  },
  {
   "cell_type": "markdown",
   "metadata": {},
   "source": [
    "We now want to perform some calculations where the body is not in a resting state like before, but rather in a state of doing vigorous exersize. [$VO_2 max$](https://en.wikipedia.org/wiki/VO2_max) is an indicator of the performance potential of an athlete. The graph below gives a correlation between the power output of different cyclists versus their $VO_2 max$ reading. Let's assume that Ben's cycling potential are represented by the grpah below and that Ben has a $VO_2 max$ of 60 ml/min/kg. \n",
    "\n",
    "<img src=\"vo2.png\" width=\"500\" />\n",
    "\n",
    "Determine the rate at which Ben burns kilojoule when he is cycling at his $VO_2 max$ [75.68$\\frac{kJ}{min}$]. If you devide this number by Ben's work output you should get 0.321. Why is this a fraction, I want you to think about this. What happens to all the energy?\n",
    "\n",
    "Repeat the calculation if Ben had a $VO_2 max$ of 45 ml/min/kg [0.301]. Why is the fraction discussed above now smaller? This fraction will typically be 0.25 for a human at rest."
   ]
  },
  {
   "cell_type": "markdown",
   "metadata": {},
   "source": [
    "<img src=\"burger.jpg\" width=\"400\" />"
   ]
  },
  {
   "cell_type": "markdown",
   "metadata": {
    "collapsed": true
   },
   "source": [
    "Ben decides to go on holiday for 3 weeks and during this time he consumes more kilojoules than his [basal metabolic rate](https://en.wikipedia.org/wiki/Basal_metabolic_rate) of 9000kJ/day. Fortunately he manages to weigh himself every day. Ben only consumes his normal healthy diet during holiday but in addition he has a Burger King tripple whopper and medium chips each day. His holiday weight data looks as follow:\n",
    "\n",
    "<img src=\"weight.jpg\" width=\"500\" />\n"
   ]
  },
  {
   "cell_type": "code",
   "execution_count": 3,
   "metadata": {},
   "outputs": [
    {
     "data": {
      "text/plain": [
       "78.4541366"
      ]
     },
     "execution_count": 3,
     "metadata": {},
     "output_type": "execute_result"
    }
   ],
   "source": [
    "## Weight data from day 1 to 21\n",
    "\n",
    "75.26248021\n",
    "75.35566638\n",
    "75.71305686\n",
    "75.73066277\n",
    "75.96406898\n",
    "76.0442701\n",
    "76.37064299\n",
    "76.44287017\n",
    "76.48982344\n",
    "76.66453735\n",
    "77.02773424\n",
    "77.00169358\n",
    "77.15501106\n",
    "77.4828677\n",
    "77.50794675\n",
    "77.83391689\n",
    "77.98128352\n",
    "78.15070277\n",
    "78.26271903\n",
    "78.29640576\n",
    "78.4541366"
   ]
  },
  {
   "cell_type": "markdown",
   "metadata": {},
   "source": [
    "Given that a kilogram of fat contains 38000kJ, draw a theoretical graph of Ben's weight gain on the measured data given above. Use Ipython notebooks for your graph. How does your theoretical straight line compare to the measured data? (remember het eats 9000kJ per day as well as the Burger King meal described above).\n",
    "\n",
    "### Want some bonus marks?\n",
    "\n",
    "Why don't you draw a graph of your own weight over 21 days. All you have to do is to measure your daily kilojoule consumption for 21 days and get on the scale each morning. No diet or binging required, just measurement of your intake. You will be able to measure your own basal metabolic rate with this data. If you exercise in addition, try and get a kilojoule estimate from your phone/watch and add to the calculation. Try it out, you'll receive some marks, but ensure that you get real data from the scale.  "
   ]
  },
  {
   "cell_type": "code",
   "execution_count": null,
   "metadata": {},
   "outputs": [],
   "source": []
  }
 ],
 "metadata": {
  "kernelspec": {
   "display_name": "Python 3 (ipykernel)",
   "language": "python",
   "name": "python3"
  },
  "language_info": {
   "codemirror_mode": {
    "name": "ipython",
    "version": 3
   },
   "file_extension": ".py",
   "mimetype": "text/x-python",
   "name": "python",
   "nbconvert_exporter": "python",
   "pygments_lexer": "ipython3",
   "version": "3.10.9"
  }
 },
 "nbformat": 4,
 "nbformat_minor": 2
}
