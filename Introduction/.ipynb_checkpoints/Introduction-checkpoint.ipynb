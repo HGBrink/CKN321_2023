{
 "cells": [
  {
   "cell_type": "markdown",
   "metadata": {},
   "source": [
    "# Introduction to CKN321\n",
    "\n",
    "## Why Chemical Engineering\n",
    "\n",
    "## History of Chemical Engineering\n",
    "Chemical engineering is a branch of engineering that deals with the application of physical and chemical processes to design, develop, and operate processes that transform raw materials into useful products. Here's a chronological overview of its history:\n",
    "\n",
    "### 19th Century\n",
    "* **Late 19th Century**: The roots of chemical engineering can be traced back to the late 19th century when industrial chemistry and chemical processes began to gain significance. Early chemical engineers focused on improving industrial processes, especially in the chemical and petrochemical industries.\n",
    "\n",
    "### 20th Century\n",
    "* **Early 20th Century**: The emergence of the industrial revolution saw a rapid expansion of chemical industries. As chemical processes became more complex, the demand for skilled engineers who could optimize and design these processes increased.\n",
    "\n",
    "* **World War I and II**: The two world wars played a crucial role in the growth of chemical engineering. Chemical engineers contributed significantly to the production of explosives, fuels, medicines, and other materials needed for the war efforts.\n",
    "\n",
    "* **1940s - 1950s**: With the development of new materials and synthetic polymers, chemical engineers played a key role in the plastics and synthetic fiber industries, which revolutionized various sectors like packaging, textiles, and electronics.\n",
    "\n",
    "* **Late 20th Century**: Chemical engineering expanded beyond traditional industries to include areas such as environmental engineering, biotechnology, pharmaceuticals, and food processing. The focus shifted towards sustainable and environmentally friendly processes.\n",
    "\n",
    "### 21st Century\n",
    "* **21st Century**: Chemical engineering continues to evolve and adapt to the changing needs of society and technological advancements. With a greater emphasis on green and sustainable technologies, chemical engineers work on renewable energy, waste management, and climate change mitigation.\n",
    "\n",
    "* **Advancements in Computing**: The advent of powerful computers and simulation software has enabled chemical engineers to model and optimize complex processes more effectively.\n",
    "\n",
    "* **Interdisciplinary Collaboration**: Chemical engineers now collaborate with experts from various fields, such as biology, materials science, and nanotechnology, to address contemporary challenges.\n",
    "\n",
    "Today, chemical engineering plays a critical role in improving our lives by producing essential products and developing innovative solutions to global challenges.\n",
    "\n",
    "Please note that this is a concise overview, and the history of chemical engineering is vast and full of significant developments and contributions from numerous individuals and groups over the years.\n",
    "\n",
    "For more detailed information visit the following YouTube video: [History of Chemical Engineering](https://www.youtube.com/watch?v=aRKyJRAxjpM)\n",
    "\n",
    "\n",
    "![Chemical Reaction Engineering Timeline](https://www.thechemicalengineer.com/media/17945/968timelinespread1.png?width=1800&quality=75)\n",
    "\n",
    "![Chemical Reaction Engineering Timeline](https://www.thechemicalengineer.com/media/17946/968timelinespread2.png?width=1800&quality=75)\n",
    "\n",
    "\n"
   ]
  },
  {
   "cell_type": "markdown",
   "metadata": {},
   "source": [
    "## Why Chemical Reaction Engineering?\n",
    "\n",
    "Chemical Reaction Engineering is a field of study that deals with the design and optimization of chemical reactors and processes. It emerged as a distinct discipline during the early 20th century and has since played a crucial role in various industries, including chemical, petrochemical, pharmaceutical, and environmental.\n",
    "\n",
    "### Historical Background\n",
    "The origins of Chemical Reaction Engineering can be traced back to the pioneering work of various scientists and engineers. Some key contributors to the field include:\n",
    "\n",
    "1. **Paul Sabatier** (1854-1941): A French chemist who made significant contributions to catalysis. He investigated the hydrogenation of organic compounds and discovered the catalytic properties of finely divided metals, earning him the Nobel Prize in Chemistry in 1912.\n",
    "\n",
    "2. **Irving Langmuir** (1881-1957): An American chemist and physicist who studied the adsorption of gases on solid surfaces. His work laid the foundation for understanding surface reactions and catalysis.\n",
    "\n",
    "3. **Peter Waage** (1833-1900) and Cato Guldberg (1836-1902): Norwegian chemists who formulated the law of mass action, which describes the rate of a chemical reaction as proportional to the product of the concentrations of the reactants.\n",
    "\n",
    "4. **Lewis M. Norton** (1874-1950): An American chemical engineer who contributed to the development of the continuous-flow stirred-tank reactor (CSTR), a vital concept in Chemical Reaction Engineering.\n",
    "\n",
    "### Development as a Discipline\n",
    "Chemical Reaction Engineering evolved as chemical engineering itself was established as an independent discipline in the early 20th century. The growing demand for chemical products and the need for efficient industrial processes drove the exploration of chemical reactions in controlled environments.\n",
    "\n",
    "As chemical plants and industries expanded, the understanding of reaction kinetics, mass transfer, and reactor design became crucial for optimizing production processes, ensuring safety, and minimizing environmental impact. Chemical engineers began to apply principles from physics, chemistry, and mathematics to study and model reactions in various types of reactors.\n",
    "\n",
    "### Modern Applications\n",
    "Today, Chemical Reaction Engineering continues to be a vital field of study, with applications in numerous industries. From the production of pharmaceuticals to the synthesis of polymers, and from refining petroleum to designing environmentally friendly processes, the principles of Chemical Reaction Engineering play a fundamental role.\n",
    "\n",
    "For a more in-depth exploration of the origin and development of Chemical Reaction Engineering, you can watch this informative YouTube video: [Origin of Chemical Reaction Engineering](https://www.youtube.com/watch?v=H-myZaCmtdg)\n",
    "\n",
    "Remember to always appreciate the pioneering efforts of those who laid the groundwork for this fascinating field of study!"
   ]
  },
  {
   "cell_type": "markdown",
   "metadata": {},
   "source": [
    "## Chemical elements, energy and water\n",
    "\n",
    "This course is all about the chemical elements that sustain life. We will be looking at how these selected elements form the basis of all [biomass](https://en.wikipedia.org/wiki/Biomass). We have to understand how these elements combine to form the molecules of life, and we need to study some biology and biochemistry accordingly. Look at the picture below. It's amazing how few of the elements are required to sustain life. The elements encircled in yellow are the ones that we'll use in our calculations, while the elements encircled in red represent elements that are required in typically very small quantities.  \n",
    "\n",
    "<img src=\"ele.png\" width=\"650\" />\n",
    "\n",
    "Another central aspect of the theme of life-sustaining elements, is the energy contained in the bonds between these elements. We'll look up to the ☀️ as our only source of energy in this course and we'll concern ourselves with storing the energy as chemical energy in the biomass. We'll scrutinize how humans and animals derive energy from biomass in the form of food and we will also look at making methane-rich biogas from the food biomass parts that we cannot eat and the waste from food that we have digested. \n",
    "\n",
    "Lastly, we'll take a closer look at water in order to understand how the reckless distribution of life bearing elements via the waterways has a disastrous influence on sensitive ecosystems. Hopefully, at the end of this course you will understand how the constant and controlled recycle of the life-bearing elements is the answer to living a sustainable future. "
   ]
  },
  {
   "cell_type": "markdown",
   "metadata": {},
   "source": [
    "## The nexus\n",
    "\n",
    "We have spoken about biomass, energy and water. Scientists like to talk about the  [food-energy-water nexus](https://en.wikipedia.org/wiki/Water,_energy_and_food_security_nexus). Future sustainability on this planet will require an integrated approach to the problems we are facing today. The FEW-nexus is a prime example of this, where future energy, food, and water security are really not seperate problems. Chemical engineering is traditionally deeply involved in energy and water matters, but in the future the issue of sustainable food production will also become part of the Chemical Engineering domain. Just have a look at this chemical engineering paper on the [production of Kale](https://www.sciencedirect.com/science/article/pii/S0048969721009426)😀. \n",
    "\n",
    "<img src=\"intro2.png\" width=\"650\" />\n",
    "\n",
    "## What lies ahead? \n",
    "\n",
    "Since [biochemical engineering](https://en.wikipedia.org/wiki/Biochemical_engineering) is our point of departure, you will require some biology basics in order to develop yourself as a biochemical engineer. In the old days the biology lectures were at the start of the semester, but this year we'll weave the biology lessons into most of the different chapters. We'll also perform engineering calculations right from the start. An interactive style to tutorials will be used, where you will typically be required to perform calculations while you are working through class examples. All preparation will have to be performed by yourself, since all contact sessions will be work sessions where we work in randomly assigned groups of 3, to discuss the content and calculations of each chapter.\n",
    "\n",
    "In the first 5 chapters we'll introduce a lot of fundamental biology and biochemistry. In chapter 1 and 2 we will look at the human body and model it as a chemical process in order to understand the food requirements of humans. In chapter 3 we will look at at the production of edible plants, also using a chemical processing approach. Chapter 4 is all about livestock where we look at the [heterotrophic side](https://en.wikipedia.org/wiki/Heterotroph) of agriculture in order to understand the flow of carbon, oxygen, hydrogen, nitrogen and other minerals through the foodchain. In chapter 5, we'll start looking at energy, where foodwaste and manure are viewed as potential energy sources through the process of [anaerobic digestion](https://en.wikipedia.org/wiki/Anaerobic_digestion). Chapters 6 and 7 will be dedicated to the chemical engineering modelling of anaerobic digesters where simple rate expressions will be numerically integrated in Python☹️. In chapter 8 and 9 we'll start looking at water, where the aerobic purification of water in the form of the [activated sludge process](https://en.wikipedia.org/wiki/Activated_sludge) wil be studied and modelled. In chapter 10, we'll combine our knowledge in order to look at creative recycle options within the food-energy-water nexus.  "
   ]
  },
  {
   "cell_type": "markdown",
   "metadata": {},
   "source": [
    "## The magic of Ipython Notebooks\n",
    "\n",
    "The whole course is presented in Ipython Notebooks. This is handy since most of the calculations will be performed in Python (using the notebook interface). The course is not just there to teach you about future sustainability concepts but it also has the intention to develop your mathematical and programming skills that will be extensively used in the rest of your 3rd and 4th year. You will only realise this benefit at a later stage, for now you will just have to trust me. In order to get started with the online interface and the Python calculations, you are required to work through the following information:\n",
    "\n",
    "It seems safe to assume you have installed jupyter notebook on your laptop during MPR and can run it but just in case:\n",
    "\n",
    "$1$) Go download and install [Anaconda](https://www.anaconda.com/products/distribution) by following the steps on the site\n",
    "\n",
    "$2$) You can easily run jupyter notebook in a file by typing 'jupyter notebook' in the adress bar and pressing enter, like so:\n",
    "<img src=\"open jupyter.png\" width=\"900\" />\n",
    "\n",
    "The notes can be accessed in 2 ways:\n",
    "\n",
    "$1$) Through this [rendered link](https://nbviewer.org/github/willienicol/CBI310-version2/blob/main/List%20of%20contents/List%20of%20contents.ipynb) so that it functions as a website\n",
    "\n",
    "$2$) By downloading them onto your laptop through [Github](https://desktop.github.com/) (download via this link) and accessing them directly in your file explorer (do this by accessing the [repository](https://github.com/willienicol/CBI310-version2) on Github and cloning it)\n",
    "\n",
    "Please note: <b>These notes are under construction! </b> This means that they may change throughout the semester. Therefore, <b>please do NOT print</b> them out - otherwise you might end up having to reprint them multiple times!\n",
    "\n",
    "<img src=\"under construction.jpg\" width=\"400\" />\n",
    "\n",
    "How do you make sure you have the latest version of the notes then?\n",
    "When using the website link these notes should be up to date as we will render any changes to it. \n",
    "When using the notes in your file explorer you will have to \"fetch\" and \"pull\" any changes in the Github desktop app so that they are downloaded into your files. See below:\n",
    "\n",
    "<img src=\"fetch.png\" width=\"700\" />\n",
    "<img src=\"pull.jpg\" width=\"600\" />\n",
    "\n",
    "If you have any trouble with accessing the notes please ask your TAs. "
   ]
  },
  {
   "cell_type": "code",
   "execution_count": null,
   "metadata": {},
   "outputs": [],
   "source": []
  }
 ],
 "metadata": {
  "kernelspec": {
   "display_name": "Python 3 (ipykernel)",
   "language": "python",
   "name": "python3"
  },
  "language_info": {
   "codemirror_mode": {
    "name": "ipython",
    "version": 3
   },
   "file_extension": ".py",
   "mimetype": "text/x-python",
   "name": "python",
   "nbconvert_exporter": "python",
   "pygments_lexer": "ipython3",
   "version": "3.10.9"
  }
 },
 "nbformat": 4,
 "nbformat_minor": 4
}
